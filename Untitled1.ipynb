{
 "cells": [
  {
   "cell_type": "code",
   "execution_count": 1,
   "id": "e412eacc-015f-4529-a9ca-8fc1af86eb01",
   "metadata": {},
   "outputs": [],
   "source": [
    "def func(x):\n",
    "    if x > 3:\n",
    "        return x\n",
    "    return False\n",
    "\n",
    "my_list = [3,4,62,2]\n",
    "filtered_list = list(filter(func, my_list))"
   ]
  },
  {
   "cell_type": "code",
   "execution_count": 2,
   "id": "9c7b4fc0-27c7-4af9-8ed8-6887b6cc9ef2",
   "metadata": {},
   "outputs": [
    {
     "name": "stdout",
     "output_type": "stream",
     "text": [
      "[4, 62]\n"
     ]
    }
   ],
   "source": [
    "print(filtered_list)"
   ]
  },
  {
   "cell_type": "code",
   "execution_count": 3,
   "id": "e820f80d-4335-4d39-900d-35669edc960b",
   "metadata": {},
   "outputs": [],
   "source": [
    "l1=[2,3,4]\n",
    "l2=l1\n",
    "l2[1]=5"
   ]
  },
  {
   "cell_type": "code",
   "execution_count": 4,
   "id": "9f2168f7-3817-4b8e-ae7e-fd779e7f8a3a",
   "metadata": {},
   "outputs": [
    {
     "data": {
      "text/plain": [
       "[2, 5, 4]"
      ]
     },
     "execution_count": 4,
     "metadata": {},
     "output_type": "execute_result"
    }
   ],
   "source": [
    "l1"
   ]
  },
  {
   "cell_type": "code",
   "execution_count": 5,
   "id": "7ca19d1f-9d3e-48d4-a0db-38cf628e52f5",
   "metadata": {},
   "outputs": [
    {
     "data": {
      "text/plain": [
       "[2, 5, 4]"
      ]
     },
     "execution_count": 5,
     "metadata": {},
     "output_type": "execute_result"
    }
   ],
   "source": [
    "l2"
   ]
  },
  {
   "cell_type": "code",
   "execution_count": 7,
   "id": "e1ae884a-bfcc-44f9-a7fe-f500e4f9e1b5",
   "metadata": {},
   "outputs": [],
   "source": [
    "import copy\n",
    "l3=copy.copy(l2)"
   ]
  },
  {
   "cell_type": "markdown",
   "id": "43df6dc8-396c-4603-a4c6-cfa372549a97",
   "metadata": {},
   "source": [
    "l3"
   ]
  },
  {
   "cell_type": "code",
   "execution_count": 8,
   "id": "30b459ae-22b9-421a-93c7-89d949256c15",
   "metadata": {},
   "outputs": [
    {
     "data": {
      "text/plain": [
       "[2, 5, 4]"
      ]
     },
     "execution_count": 8,
     "metadata": {},
     "output_type": "execute_result"
    }
   ],
   "source": [
    "l3"
   ]
  },
  {
   "cell_type": "code",
   "execution_count": 9,
   "id": "a3270544-6bec-4d37-9a47-b7d32d92e084",
   "metadata": {},
   "outputs": [],
   "source": [
    "l3[2]=10"
   ]
  },
  {
   "cell_type": "code",
   "execution_count": 10,
   "id": "7a909f1b-c6e7-4291-b197-00f68e4c03fb",
   "metadata": {},
   "outputs": [
    {
     "data": {
      "text/plain": [
       "[2, 5, 10]"
      ]
     },
     "execution_count": 10,
     "metadata": {},
     "output_type": "execute_result"
    }
   ],
   "source": [
    "l3"
   ]
  },
  {
   "cell_type": "code",
   "execution_count": 11,
   "id": "982f81f9-22ae-4126-8e2d-c33f27f063e6",
   "metadata": {},
   "outputs": [
    {
     "data": {
      "text/plain": [
       "[2, 5, 4]"
      ]
     },
     "execution_count": 11,
     "metadata": {},
     "output_type": "execute_result"
    }
   ],
   "source": [
    "l2"
   ]
  },
  {
   "cell_type": "code",
   "execution_count": 12,
   "id": "556fd363-e554-43b6-bfc8-fcae64089ca4",
   "metadata": {},
   "outputs": [],
   "source": [
    "l4=copy.deepcopy(l3)"
   ]
  },
  {
   "cell_type": "code",
   "execution_count": 13,
   "id": "4b831bb8-f950-4a22-9a0a-9920652ae939",
   "metadata": {},
   "outputs": [
    {
     "data": {
      "text/plain": [
       "[2, 5, 10]"
      ]
     },
     "execution_count": 13,
     "metadata": {},
     "output_type": "execute_result"
    }
   ],
   "source": [
    "l4"
   ]
  },
  {
   "cell_type": "code",
   "execution_count": 14,
   "id": "16947845-a08e-456d-bb70-345a8c8f74e0",
   "metadata": {},
   "outputs": [
    {
     "data": {
      "text/plain": [
       "[2, 5, 10]"
      ]
     },
     "execution_count": 14,
     "metadata": {},
     "output_type": "execute_result"
    }
   ],
   "source": [
    "l3"
   ]
  },
  {
   "cell_type": "code",
   "execution_count": 17,
   "id": "8c2a5c84-aa3c-4e46-8380-bc1fde721b00",
   "metadata": {},
   "outputs": [],
   "source": [
    "l4[0]=5"
   ]
  },
  {
   "cell_type": "code",
   "execution_count": 18,
   "id": "de39706a-9421-43c6-bd35-cba5dff0a216",
   "metadata": {},
   "outputs": [
    {
     "data": {
      "text/plain": [
       "[5, 5, 10]"
      ]
     },
     "execution_count": 18,
     "metadata": {},
     "output_type": "execute_result"
    }
   ],
   "source": [
    "l4"
   ]
  },
  {
   "cell_type": "code",
   "execution_count": 19,
   "id": "1e16dce4-891e-478f-9869-c6a92e23824b",
   "metadata": {},
   "outputs": [
    {
     "data": {
      "text/plain": [
       "[2, 5, 10]"
      ]
     },
     "execution_count": 19,
     "metadata": {},
     "output_type": "execute_result"
    }
   ],
   "source": [
    "l3"
   ]
  },
  {
   "cell_type": "code",
   "execution_count": 20,
   "id": "1d2cdc15-0e49-49b8-b08c-14cbcce2d0f1",
   "metadata": {},
   "outputs": [],
   "source": [
    "l5=copy.copy(l4)"
   ]
  },
  {
   "cell_type": "code",
   "execution_count": 21,
   "id": "4d746332-4b2a-459e-9742-b83145131db1",
   "metadata": {},
   "outputs": [
    {
     "data": {
      "text/plain": [
       "[5, 5, 10]"
      ]
     },
     "execution_count": 21,
     "metadata": {},
     "output_type": "execute_result"
    }
   ],
   "source": [
    "l5"
   ]
  },
  {
   "cell_type": "code",
   "execution_count": 22,
   "id": "7ab0929b-ce44-4e41-9f63-765882c1fa3f",
   "metadata": {},
   "outputs": [
    {
     "data": {
      "text/plain": [
       "[5, 5, 10]"
      ]
     },
     "execution_count": 22,
     "metadata": {},
     "output_type": "execute_result"
    }
   ],
   "source": [
    "l4"
   ]
  },
  {
   "cell_type": "code",
   "execution_count": 23,
   "id": "685ce5b8-e300-402f-862c-c301090954f3",
   "metadata": {},
   "outputs": [],
   "source": [
    "l5[2]=25"
   ]
  },
  {
   "cell_type": "code",
   "execution_count": 24,
   "id": "edcd1f30-ff43-407b-9ad3-141a467584cc",
   "metadata": {},
   "outputs": [
    {
     "data": {
      "text/plain": [
       "[5, 5, 25]"
      ]
     },
     "execution_count": 24,
     "metadata": {},
     "output_type": "execute_result"
    }
   ],
   "source": [
    "l5"
   ]
  },
  {
   "cell_type": "code",
   "execution_count": 25,
   "id": "d61540b3-a4d9-4beb-92c5-154b8c2aa3ed",
   "metadata": {},
   "outputs": [
    {
     "data": {
      "text/plain": [
       "[5, 5, 10]"
      ]
     },
     "execution_count": 25,
     "metadata": {},
     "output_type": "execute_result"
    }
   ],
   "source": [
    "l4"
   ]
  },
  {
   "cell_type": "code",
   "execution_count": 1,
   "id": "96d51432-a5e9-4a1c-88f3-8ca64980fa0f",
   "metadata": {},
   "outputs": [
    {
     "data": {
      "text/plain": [
       "7"
      ]
     },
     "execution_count": 1,
     "metadata": {},
     "output_type": "execute_result"
    }
   ],
   "source": [
    "15//2"
   ]
  },
  {
   "cell_type": "code",
   "execution_count": 2,
   "id": "bba2a2ec-75ad-45eb-a349-b7b3226d34c8",
   "metadata": {},
   "outputs": [
    {
     "data": {
      "text/plain": [
       "-8"
      ]
     },
     "execution_count": 2,
     "metadata": {},
     "output_type": "execute_result"
    }
   ],
   "source": [
    "-15//2"
   ]
  },
  {
   "cell_type": "code",
   "execution_count": null,
   "id": "b1a5d7f0-85dd-4521-a430-5471ff828f94",
   "metadata": {},
   "outputs": [],
   "source": []
  }
 ],
 "metadata": {
  "kernelspec": {
   "display_name": "Python 3 (ipykernel)",
   "language": "python",
   "name": "python3"
  },
  "language_info": {
   "codemirror_mode": {
    "name": "ipython",
    "version": 3
   },
   "file_extension": ".py",
   "mimetype": "text/x-python",
   "name": "python",
   "nbconvert_exporter": "python",
   "pygments_lexer": "ipython3",
   "version": "3.9.10"
  }
 },
 "nbformat": 4,
 "nbformat_minor": 5
}
