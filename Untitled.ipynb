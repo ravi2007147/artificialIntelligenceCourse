{
 "cells": [
  {
   "cell_type": "code",
   "execution_count": 1,
   "id": "82d4fd4f-86b6-4a1e-b433-7f7cc3d45e26",
   "metadata": {},
   "outputs": [],
   "source": [
    "var = '01234567'"
   ]
  },
  {
   "cell_type": "code",
   "execution_count": 2,
   "id": "feae6702-9260-466d-908e-ddf2fb4fe84f",
   "metadata": {},
   "outputs": [
    {
     "name": "stdout",
     "output_type": "stream",
     "text": [
      "0246\n"
     ]
    }
   ],
   "source": [
    "print(var[::2])"
   ]
  },
  {
   "cell_type": "code",
   "execution_count": 3,
   "id": "f90b0015-488e-4adc-bd53-09ba357b5145",
   "metadata": {},
   "outputs": [
    {
     "data": {
      "text/plain": [
       "'12'"
      ]
     },
     "execution_count": 3,
     "metadata": {},
     "output_type": "execute_result"
    }
   ],
   "source": [
    "'1'+'2'"
   ]
  },
  {
   "cell_type": "code",
   "execution_count": 4,
   "id": "3fc5a11c-7f00-4d58-915a-0f5d566bf701",
   "metadata": {},
   "outputs": [],
   "source": [
    "L=[2,4,5]"
   ]
  },
  {
   "cell_type": "code",
   "execution_count": 5,
   "id": "e69b5dad-e85e-4e06-b68b-c4e237f0db58",
   "metadata": {},
   "outputs": [],
   "source": [
    "L.append([4,5])"
   ]
  },
  {
   "cell_type": "code",
   "execution_count": 6,
   "id": "5e133dba-5350-401b-ae2a-efc65f09053a",
   "metadata": {},
   "outputs": [
    {
     "data": {
      "text/plain": [
       "[2, 4, 5, [4, 5]]"
      ]
     },
     "execution_count": 6,
     "metadata": {},
     "output_type": "execute_result"
    }
   ],
   "source": [
    "L"
   ]
  },
  {
   "cell_type": "code",
   "execution_count": 7,
   "id": "4be45ab5-4ab1-4974-ad59-da318f352c44",
   "metadata": {},
   "outputs": [],
   "source": [
    "A = ['1','2','3']"
   ]
  },
  {
   "cell_type": "code",
   "execution_count": 10,
   "id": "77a75a89-43d5-456e-bf7b-9601340fa2c3",
   "metadata": {},
   "outputs": [
    {
     "name": "stdout",
     "output_type": "stream",
     "text": [
      "11\n",
      "22\n",
      "33\n"
     ]
    }
   ],
   "source": [
    "for a in A:\n",
    "    print(2*a)"
   ]
  },
  {
   "cell_type": "code",
   "execution_count": 11,
   "id": "a9f22a27-7d99-4881-8a8e-3c049fa412f3",
   "metadata": {},
   "outputs": [],
   "source": [
    "A='1234567'"
   ]
  },
  {
   "cell_type": "code",
   "execution_count": 12,
   "id": "1fd2ace1-986a-4728-9d60-5da86b7cfbe0",
   "metadata": {},
   "outputs": [
    {
     "data": {
      "text/plain": [
       "'246'"
      ]
     },
     "execution_count": 12,
     "metadata": {},
     "output_type": "execute_result"
    }
   ],
   "source": [
    "A[1::2]"
   ]
  },
  {
   "cell_type": "code",
   "execution_count": 13,
   "id": "545232c1-8165-478a-b7ba-5e73d8879c68",
   "metadata": {},
   "outputs": [],
   "source": [
    "Name=\"Michael Jackson\""
   ]
  },
  {
   "cell_type": "code",
   "execution_count": 14,
   "id": "cea73a1e-0060-4cb3-bf37-5420d47cddc0",
   "metadata": {},
   "outputs": [
    {
     "data": {
      "text/plain": [
       "5"
      ]
     },
     "execution_count": 14,
     "metadata": {},
     "output_type": "execute_result"
    }
   ],
   "source": [
    "Name.find('el')"
   ]
  },
  {
   "cell_type": "code",
   "execution_count": 16,
   "id": "548ee046-c574-4920-95f0-e38db4f67a9e",
   "metadata": {},
   "outputs": [
    {
     "name": "stdout",
     "output_type": "stream",
     "text": [
      "11\n",
      "22\n",
      "33\n"
     ]
    }
   ],
   "source": [
    "A=['1','2','3']\n",
    "\n",
    "for a in A:\n",
    "    print(2*a)"
   ]
  },
  {
   "cell_type": "code",
   "execution_count": 17,
   "id": "d6b70816-7d92-4638-af4e-cf1def3b9aa8",
   "metadata": {},
   "outputs": [
    {
     "data": {
      "text/plain": [
       "'1'"
      ]
     },
     "execution_count": 17,
     "metadata": {},
     "output_type": "execute_result"
    }
   ],
   "source": [
    "def Add(x,y):\n",
    "    z=y+x\n",
    "    return(y)\n",
    "Add('1','1')"
   ]
  },
  {
   "cell_type": "code",
   "execution_count": null,
   "id": "d1cc375e-3e8b-45cf-9b3f-fc3df5b96c71",
   "metadata": {},
   "outputs": [],
   "source": []
  }
 ],
 "metadata": {
  "kernelspec": {
   "display_name": "Python 3 (ipykernel)",
   "language": "python",
   "name": "python3"
  },
  "language_info": {
   "codemirror_mode": {
    "name": "ipython",
    "version": 3
   },
   "file_extension": ".py",
   "mimetype": "text/x-python",
   "name": "python",
   "nbconvert_exporter": "python",
   "pygments_lexer": "ipython3",
   "version": "3.9.10"
  }
 },
 "nbformat": 4,
 "nbformat_minor": 5
}
