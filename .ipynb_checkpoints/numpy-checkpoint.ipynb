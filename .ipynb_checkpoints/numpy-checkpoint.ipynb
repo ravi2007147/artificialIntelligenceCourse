{
 "cells": [
  {
   "cell_type": "code",
   "execution_count": 1,
   "id": "6b6b374d-8aef-4914-a7af-f2e707fd61b4",
   "metadata": {},
   "outputs": [
    {
     "data": {
      "text/plain": [
       "array([ 0,  3, -1,  5, 10])"
      ]
     },
     "execution_count": 1,
     "metadata": {},
     "output_type": "execute_result"
    }
   ],
   "source": [
    "a = [0, 3, -1, 5, 10]\n",
    "import numpy as np\n",
    "n=np.array(a)\n",
    "n"
   ]
  },
  {
   "cell_type": "code",
   "execution_count": 2,
   "id": "babcbc05-1eac-4a2f-a4a6-4f76b0c8881f",
   "metadata": {},
   "outputs": [
    {
     "data": {
      "text/plain": [
       "numpy.ndarray"
      ]
     },
     "execution_count": 2,
     "metadata": {},
     "output_type": "execute_result"
    }
   ],
   "source": [
    "type(n)"
   ]
  },
  {
   "cell_type": "code",
   "execution_count": 3,
   "id": "6756a206-be26-46fb-ae0b-9b10653566e1",
   "metadata": {},
   "outputs": [
    {
     "data": {
      "text/plain": [
       "dtype('int64')"
      ]
     },
     "execution_count": 3,
     "metadata": {},
     "output_type": "execute_result"
    }
   ],
   "source": [
    "n.dtype"
   ]
  },
  {
   "cell_type": "code",
   "execution_count": 4,
   "id": "e8c36798-1b24-41c8-8532-b3a37d31376d",
   "metadata": {},
   "outputs": [
    {
     "data": {
      "text/plain": [
       "5"
      ]
     },
     "execution_count": 4,
     "metadata": {},
     "output_type": "execute_result"
    }
   ],
   "source": [
    "n.size"
   ]
  },
  {
   "cell_type": "code",
   "execution_count": 5,
   "id": "ccae39f8-46b2-4114-8351-0436ecf05dac",
   "metadata": {},
   "outputs": [
    {
     "data": {
      "text/plain": [
       "1"
      ]
     },
     "execution_count": 5,
     "metadata": {},
     "output_type": "execute_result"
    }
   ],
   "source": [
    "n.ndim"
   ]
  },
  {
   "cell_type": "code",
   "execution_count": 6,
   "id": "9c3dc82f-307a-4110-b115-023dc05c4026",
   "metadata": {},
   "outputs": [
    {
     "data": {
      "text/plain": [
       "(5,)"
      ]
     },
     "execution_count": 6,
     "metadata": {},
     "output_type": "execute_result"
    }
   ],
   "source": [
    "n.shape"
   ]
  },
  {
   "cell_type": "code",
   "execution_count": 7,
   "id": "1eb574ad-7515-4cbc-97c5-b51e634e21b8",
   "metadata": {},
   "outputs": [],
   "source": [
    "n[1:4]=100,1500,2500"
   ]
  },
  {
   "cell_type": "code",
   "execution_count": 32,
   "id": "aa47e7c7-8b85-45d9-a507-53f2514df69b",
   "metadata": {},
   "outputs": [
    {
     "data": {
      "text/plain": [
       "array([   0,  100, 1500, 2500,   10])"
      ]
     },
     "execution_count": 32,
     "metadata": {},
     "output_type": "execute_result"
    }
   ],
   "source": [
    "n"
   ]
  },
  {
   "cell_type": "code",
   "execution_count": 33,
   "id": "5c351f4d-c353-4586-aa8d-c2b0fcbe4a6d",
   "metadata": {},
   "outputs": [
    {
     "data": {
      "text/plain": [
       "array([3, 4])"
      ]
     },
     "execution_count": 33,
     "metadata": {},
     "output_type": "execute_result"
    }
   ],
   "source": [
    "u=np.array([1,2])\n",
    "y=np.array([3,2])\n",
    "z= u * y\n",
    "z"
   ]
  },
  {
   "cell_type": "code",
   "execution_count": 35,
   "id": "8cfa88f9-2768-4be3-a097-c2333a6a2c93",
   "metadata": {},
   "outputs": [
    {
     "data": {
      "text/plain": [
       "[3, 4]"
      ]
     },
     "execution_count": 35,
     "metadata": {},
     "output_type": "execute_result"
    }
   ],
   "source": [
    "u=[1,2]\n",
    "v=[3,2]\n",
    "z=[]\n",
    "\n",
    "for x,y in zip(u,v):\n",
    "    z.append(x*y)\n",
    "\n",
    "z"
   ]
  },
  {
   "cell_type": "code",
   "execution_count": 36,
   "id": "fb0f901d-21b5-4f3b-bbbb-3abc08857fea",
   "metadata": {},
   "outputs": [
    {
     "data": {
      "text/plain": [
       "7"
      ]
     },
     "execution_count": 36,
     "metadata": {},
     "output_type": "execute_result"
    }
   ],
   "source": [
    "np.dot(u,v)"
   ]
  },
  {
   "cell_type": "code",
   "execution_count": 38,
   "id": "b6cd1224-a911-4c2e-b249-6914da4e686f",
   "metadata": {},
   "outputs": [
    {
     "data": {
      "text/plain": [
       "array([-5.        , -3.88888889, -2.77777778, -1.66666667, -0.55555556,\n",
       "        0.55555556,  1.66666667,  2.77777778,  3.88888889,  5.        ])"
      ]
     },
     "execution_count": 38,
     "metadata": {},
     "output_type": "execute_result"
    }
   ],
   "source": [
    "np.linspace(-5,5,10)"
   ]
  },
  {
   "cell_type": "code",
   "execution_count": 40,
   "id": "2e4284d8-765b-4af5-bb17-002e83215491",
   "metadata": {},
   "outputs": [],
   "source": [
    "x=np.linspace(0,2*np.pi,100)"
   ]
  },
  {
   "cell_type": "code",
   "execution_count": 47,
   "id": "01199aea-0c53-4ed8-8e2b-57754f2f13f2",
   "metadata": {},
   "outputs": [
    {
     "data": {
      "text/plain": [
       "[<matplotlib.lines.Line2D at 0x7fea364ee1f0>]"
      ]
     },
     "execution_count": 47,
     "metadata": {},
     "output_type": "execute_result"
    },
    {
     "data": {
      "image/png": "[encoded data removed]",
      "text/plain": [
       "<Figure size 432x288 with 1 Axes>"
      ]
     },
     "metadata": {
      "needs_background": "light"
     },
     "output_type": "display_data"
    }
   ],
   "source": [
    "y=np.sin(x)\n",
    "import matplotlib.pyplot as plt\n",
    "plt.plot(x,y)"
   ]
  },
  {
   "cell_type": "code",
   "execution_count": 8,
   "id": "89612c2c-cf98-436a-a258-9a7753906461",
   "metadata": {},
   "outputs": [],
   "source": [
    "n=np.array(5)"
   ]
  },
  {
   "cell_type": "code",
   "execution_count": 9,
   "id": "2426aa25-9160-4833-9b30-0cd174770d24",
   "metadata": {},
   "outputs": [
    {
     "data": {
      "text/plain": [
       "array(5)"
      ]
     },
     "execution_count": 9,
     "metadata": {},
     "output_type": "execute_result"
    }
   ],
   "source": [
    "n"
   ]
  },
  {
   "cell_type": "code",
   "execution_count": 12,
   "id": "47533df2-9918-4b32-a8f5-ebe9a4b68a54",
   "metadata": {},
   "outputs": [
    {
     "name": "stdout",
     "output_type": "stream",
     "text": [
      "5\n"
     ]
    }
   ],
   "source": [
    "print(n)"
   ]
  },
  {
   "cell_type": "code",
   "execution_count": 13,
   "id": "3e9aef3e-35ff-478b-b3e0-11c45dd95709",
   "metadata": {},
   "outputs": [],
   "source": [
    "n=np.array([3,4,67,4])"
   ]
  },
  {
   "cell_type": "code",
   "execution_count": 14,
   "id": "1e2cdcfa-08d4-4a9e-90ee-1fc47f3de88b",
   "metadata": {},
   "outputs": [
    {
     "data": {
      "text/plain": [
       "array([ 3,  4, 67,  4])"
      ]
     },
     "execution_count": 14,
     "metadata": {},
     "output_type": "execute_result"
    }
   ],
   "source": [
    "n"
   ]
  },
  {
   "cell_type": "code",
   "execution_count": 15,
   "id": "8694ae26-3663-4304-87ff-5cd6fbf95344",
   "metadata": {},
   "outputs": [
    {
     "data": {
      "text/plain": [
       "3"
      ]
     },
     "execution_count": 15,
     "metadata": {},
     "output_type": "execute_result"
    }
   ],
   "source": [
    "n[0]"
   ]
  },
  {
   "cell_type": "code",
   "execution_count": 16,
   "id": "efe418e5-c93b-4a82-a345-6d9057164a18",
   "metadata": {},
   "outputs": [],
   "source": [
    "n=np.array(3)"
   ]
  },
  {
   "cell_type": "code",
   "execution_count": 17,
   "id": "ab592f11-9bb6-40ae-99fa-d4232beaf4b0",
   "metadata": {},
   "outputs": [
    {
     "data": {
      "text/plain": [
       "()"
      ]
     },
     "execution_count": 17,
     "metadata": {},
     "output_type": "execute_result"
    }
   ],
   "source": [
    "n.shape"
   ]
  },
  {
   "cell_type": "code",
   "execution_count": 19,
   "id": "899a1c60-c830-4414-9919-328d584377c8",
   "metadata": {},
   "outputs": [
    {
     "data": {
      "text/plain": [
       "(3,)"
      ]
     },
     "execution_count": 19,
     "metadata": {},
     "output_type": "execute_result"
    }
   ],
   "source": [
    "n=np.array([2,3,4])\n",
    "n.shape"
   ]
  },
  {
   "cell_type": "code",
   "execution_count": 21,
   "id": "23f71e42-c20f-42f7-b9b8-d49887dd1d0c",
   "metadata": {},
   "outputs": [
    {
     "data": {
      "text/plain": [
       "(2, 4)"
      ]
     },
     "execution_count": 21,
     "metadata": {},
     "output_type": "execute_result"
    }
   ],
   "source": [
    "n=np.array([[2,34,5,6],[2,3,4,8]])\n",
    "n.shape"
   ]
  },
  {
   "cell_type": "code",
   "execution_count": 22,
   "id": "a9fc1a88-8db7-46e1-ae95-33fc290928cb",
   "metadata": {},
   "outputs": [
    {
     "data": {
      "text/plain": [
       "(4, 2, 3)"
      ]
     },
     "execution_count": 22,
     "metadata": {},
     "output_type": "execute_result"
    }
   ],
   "source": [
    "n=np.array([[[2,34,5],[6,7,8]],[[2,34,5],[6,7,8]],[[2,34,5],[6,7,8]],[[2,34,5],[6,7,8]]])\n",
    "n.shape"
   ]
  },
  {
   "cell_type": "code",
   "execution_count": 23,
   "id": "7be25bf8-8a01-4e6b-a0ab-316dc95a2385",
   "metadata": {},
   "outputs": [
    {
     "data": {
      "text/plain": [
       "3"
      ]
     },
     "execution_count": 23,
     "metadata": {},
     "output_type": "execute_result"
    }
   ],
   "source": [
    "n.ndim"
   ]
  },
  {
   "cell_type": "code",
   "execution_count": 31,
   "id": "12fe448c-ebe3-4593-a203-f010ea062753",
   "metadata": {},
   "outputs": [],
   "source": [
    "numpy_array=np.array([x for x in range(1,9)])"
   ]
  },
  {
   "cell_type": "code",
   "execution_count": 32,
   "id": "aa17577b-df79-4899-8a9e-c04d3b4b3d3f",
   "metadata": {},
   "outputs": [
    {
     "data": {
      "text/plain": [
       "array([1, 2, 3, 4, 5, 6, 7, 8])"
      ]
     },
     "execution_count": 32,
     "metadata": {},
     "output_type": "execute_result"
    }
   ],
   "source": [
    "numpy_array"
   ]
  },
  {
   "cell_type": "code",
   "execution_count": 34,
   "id": "8876d5a3-7822-412b-9e6b-d6d81437c826",
   "metadata": {},
   "outputs": [
    {
     "data": {
      "text/plain": [
       "array([[[1, 2],\n",
       "        [3, 4]],\n",
       "\n",
       "       [[5, 6],\n",
       "        [7, 8]]])"
      ]
     },
     "execution_count": 34,
     "metadata": {},
     "output_type": "execute_result"
    }
   ],
   "source": [
    "n=numpy_array.reshape(2,2,-1)\n",
    "n"
   ]
  },
  {
   "cell_type": "code",
   "execution_count": 35,
   "id": "7fe00dbd-2da6-4d00-b263-135a289e7da0",
   "metadata": {},
   "outputs": [
    {
     "data": {
      "text/plain": [
       "array([1, 2, 3, 4, 5, 6, 7, 8])"
      ]
     },
     "execution_count": 35,
     "metadata": {},
     "output_type": "execute_result"
    }
   ],
   "source": [
    "n.reshape(-1)"
   ]
  },
  {
   "cell_type": "code",
   "execution_count": 37,
   "id": "1e3777ec-dff3-411b-8678-9c3d8c8ec3b2",
   "metadata": {},
   "outputs": [
    {
     "name": "stdout",
     "output_type": "stream",
     "text": [
      "5\n",
      "4\n",
      "3\n",
      "2\n"
     ]
    }
   ],
   "source": [
    "for i in [2,3,4,5][::-1]:\n",
    "    print(i)"
   ]
  },
  {
   "cell_type": "code",
   "execution_count": 39,
   "id": "b307173c-f0ca-4dfb-9351-adedb4ca6dc9",
   "metadata": {},
   "outputs": [
    {
     "data": {
      "text/plain": [
       "[4, 3, 2, 1]"
      ]
     },
     "execution_count": 39,
     "metadata": {},
     "output_type": "execute_result"
    }
   ],
   "source": [
    "a=[1,2,3,4][::-1]\n",
    "a"
   ]
  },
  {
   "cell_type": "code",
   "execution_count": 43,
   "id": "2c41d83f-5a16-47a0-877f-435928512c43",
   "metadata": {},
   "outputs": [
    {
     "data": {
      "text/plain": [
       "8"
      ]
     },
     "execution_count": 43,
     "metadata": {},
     "output_type": "execute_result"
    }
   ],
   "source": [
    "a=-16\n",
    "a//-2"
   ]
  },
  {
   "cell_type": "code",
   "execution_count": 44,
   "id": "e1e22942-5b6a-468e-b5cb-095cafb9f5b6",
   "metadata": {},
   "outputs": [
    {
     "data": {
      "text/plain": [
       "61917364224"
      ]
     },
     "execution_count": 44,
     "metadata": {},
     "output_type": "execute_result"
    }
   ],
   "source": [
    "a=12\n",
    "a**=10\n",
    "a"
   ]
  },
  {
   "cell_type": "code",
   "execution_count": 45,
   "id": "503cbc15-a4c5-47ce-beb3-bd6eb88fc2df",
   "metadata": {},
   "outputs": [
    {
     "data": {
      "text/plain": [
       "140630956057328"
      ]
     },
     "execution_count": 45,
     "metadata": {},
     "output_type": "execute_result"
    }
   ],
   "source": [
    "a=\"sdfsd\"\n",
    "id(a)"
   ]
  },
  {
   "cell_type": "code",
   "execution_count": 46,
   "id": "ab2c7b16-14a2-4694-8d68-e246a731328f",
   "metadata": {},
   "outputs": [],
   "source": [
    "a=\"xyz\""
   ]
  },
  {
   "cell_type": "code",
   "execution_count": 47,
   "id": "7dc4c9f2-241b-437a-b2b9-67a67f50aae7",
   "metadata": {},
   "outputs": [
    {
     "data": {
      "text/plain": [
       "140630955838960"
      ]
     },
     "execution_count": 47,
     "metadata": {},
     "output_type": "execute_result"
    }
   ],
   "source": [
    "id(a)"
   ]
  },
  {
   "cell_type": "code",
   "execution_count": 48,
   "id": "934936a7-6ada-4a79-8aa5-aea4bf4cb015",
   "metadata": {},
   "outputs": [
    {
     "name": "stdin",
     "output_type": "stream",
     "text": [
      "Enter name and age ravi,10\n"
     ]
    },
    {
     "name": "stdout",
     "output_type": "stream",
     "text": [
      "['ravi', '10']\n"
     ]
    }
   ],
   "source": [
    "print(input(\"Enter name and age\").split(\",\"))"
   ]
  },
  {
   "cell_type": "code",
   "execution_count": 53,
   "id": "125d5db5-ec08-4d33-8aac-b926bd3df95f",
   "metadata": {},
   "outputs": [],
   "source": [
    "an=34\n",
    "a=f\"hello how \\n are you {an}\""
   ]
  },
  {
   "cell_type": "code",
   "execution_count": 54,
   "id": "c9223d05-2853-41af-9556-a83a9d17290d",
   "metadata": {},
   "outputs": [
    {
     "data": {
      "text/plain": [
       "'hello how \\n are you 34'"
      ]
     },
     "execution_count": 54,
     "metadata": {},
     "output_type": "execute_result"
    }
   ],
   "source": [
    "a"
   ]
  },
  {
   "cell_type": "code",
   "execution_count": null,
   "id": "2e7dbb7a-5cf4-4e75-82ce-7fbccaca0689",
   "metadata": {},
   "outputs": [],
   "source": []
  },
  {
   "cell_type": "code",
   "execution_count": 73,
   "id": "63cb7abb-85d8-4ba2-a97d-7b8fcab24e6b",
   "metadata": {},
   "outputs": [
    {
     "data": {
      "text/plain": [
       "'u'"
      ]
     },
     "execution_count": 73,
     "metadata": {},
     "output_type": "execute_result"
    }
   ],
   "source": [
    "n=\"Valueandvaluation@132\"\n",
    "n[11:-11:-3]"
   ]
  },
  {
   "cell_type": "code",
   "execution_count": 8,
   "id": "2d099c6d-1c22-41de-aedd-aa467ac585a6",
   "metadata": {},
   "outputs": [
    {
     "name": "stdin",
     "output_type": "stream",
     "text": [
      "Enter value for a:  10\n",
      "Enter value for b:  5\n",
      "Enter 1 for add, 2 for sub, 3 for mult, 4 for div 5\n"
     ]
    },
    {
     "name": "stdout",
     "output_type": "stream",
     "text": [
      "Wrong number entered\n"
     ]
    }
   ],
   "source": [
    "a=int(input(\"Enter value for a: \"))\n",
    "b=int(input(\"Enter value for b: \"))\n",
    "c=int(input(\"Enter 1 for add, 2 for sub, 3 for mult, 4 for div\"))\n",
    "\n",
    "if(c==1):\n",
    "    print(a+b)\n",
    "elif(c==2):\n",
    "    print(a-b)\n",
    "elif(c==3):\n",
    "    print(a*b)\n",
    "elif(c==4):\n",
    "    print(a/b)\n",
    "else:\n",
    "    print(\"Wrong number entered\")"
   ]
  },
  {
   "cell_type": "code",
   "execution_count": 9,
   "id": "a95332b6-826f-45d7-89a9-e7be6ecbe60e",
   "metadata": {},
   "outputs": [
    {
     "data": {
      "text/plain": [
       "4"
      ]
     },
     "execution_count": 9,
     "metadata": {},
     "output_type": "execute_result"
    }
   ],
   "source": [
    "a=[3,4,5,6]\n",
    "len(a)"
   ]
  },
  {
   "cell_type": "code",
   "execution_count": 10,
   "id": "7420bf72-229c-4e65-a377-f7bcc2c31029",
   "metadata": {},
   "outputs": [],
   "source": [
    "a.append(10)"
   ]
  },
  {
   "cell_type": "code",
   "execution_count": 11,
   "id": "f54edaa1-0929-4c47-863c-a5e9248f127d",
   "metadata": {},
   "outputs": [
    {
     "data": {
      "text/plain": [
       "5"
      ]
     },
     "execution_count": 11,
     "metadata": {},
     "output_type": "execute_result"
    }
   ],
   "source": [
    "len(a)"
   ]
  },
  {
   "cell_type": "code",
   "execution_count": 24,
   "id": "bf3de156-3954-4b56-b87f-3097a1efabd6",
   "metadata": {},
   "outputs": [],
   "source": [
    "a.extend([10,5])"
   ]
  },
  {
   "cell_type": "code",
   "execution_count": 25,
   "id": "eef3469c-0f9d-4d61-9f26-8b69c2c8c418",
   "metadata": {},
   "outputs": [
    {
     "data": {
      "text/plain": [
       "12"
      ]
     },
     "execution_count": 25,
     "metadata": {},
     "output_type": "execute_result"
    }
   ],
   "source": [
    "len(a)"
   ]
  },
  {
   "cell_type": "code",
   "execution_count": 26,
   "id": "733f70b1-4a77-426a-9845-76584c24aa2a",
   "metadata": {},
   "outputs": [
    {
     "data": {
      "text/plain": [
       "[3, 4, 5, 6, 10, [1, 2], 1, 2, 10, 12, 10, 5]"
      ]
     },
     "execution_count": 26,
     "metadata": {},
     "output_type": "execute_result"
    }
   ],
   "source": [
    "a"
   ]
  },
  {
   "cell_type": "code",
   "execution_count": 27,
   "id": "2dbe1bcb-8495-47f1-9941-ef7ab4b778e4",
   "metadata": {},
   "outputs": [],
   "source": [
    "a.insert(4,100)"
   ]
  },
  {
   "cell_type": "code",
   "execution_count": 28,
   "id": "0f0284c5-853d-44e4-9476-b4699b7ee482",
   "metadata": {},
   "outputs": [
    {
     "data": {
      "text/plain": [
       "[3, 4, 5, 6, 100, 10, [1, 2], 1, 2, 10, 12, 10, 5]"
      ]
     },
     "execution_count": 28,
     "metadata": {},
     "output_type": "execute_result"
    }
   ],
   "source": [
    "a"
   ]
  },
  {
   "cell_type": "code",
   "execution_count": 29,
   "id": "318d70b0-f69c-4d7b-a312-46ee8ea5cb3a",
   "metadata": {},
   "outputs": [],
   "source": [
    "a.remove(5)"
   ]
  },
  {
   "cell_type": "code",
   "execution_count": 30,
   "id": "370286df-2405-4879-b9f9-0b5e5dadb838",
   "metadata": {},
   "outputs": [
    {
     "data": {
      "text/plain": [
       "[3, 4, 6, 100, 10, [1, 2], 1, 2, 10, 12, 10, 5]"
      ]
     },
     "execution_count": 30,
     "metadata": {},
     "output_type": "execute_result"
    }
   ],
   "source": [
    "a"
   ]
  },
  {
   "cell_type": "code",
   "execution_count": 31,
   "id": "2bba638f-8ec2-4b01-b6b4-45705dc3b567",
   "metadata": {},
   "outputs": [],
   "source": [
    "del a[4]"
   ]
  },
  {
   "cell_type": "code",
   "execution_count": 32,
   "id": "f4d995ae-f4e3-4d81-93ee-c7476c797505",
   "metadata": {},
   "outputs": [
    {
     "data": {
      "text/plain": [
       "[3, 4, 6, 100, [1, 2], 1, 2, 10, 12, 10, 5]"
      ]
     },
     "execution_count": 32,
     "metadata": {},
     "output_type": "execute_result"
    }
   ],
   "source": [
    "a"
   ]
  },
  {
   "cell_type": "code",
   "execution_count": 33,
   "id": "d91b4e1c-ca71-4499-bce1-fb3b4e19d6a7",
   "metadata": {},
   "outputs": [
    {
     "name": "stdout",
     "output_type": "stream",
     "text": [
      "100\n"
     ]
    }
   ],
   "source": [
    "print(a.pop(3))"
   ]
  },
  {
   "cell_type": "code",
   "execution_count": 34,
   "id": "3a9ad055-fdeb-4741-959b-221a5ed88416",
   "metadata": {},
   "outputs": [
    {
     "data": {
      "text/plain": [
       "[3, 4, 6, [1, 2], 1, 2, 10, 12, 10, 5]"
      ]
     },
     "execution_count": 34,
     "metadata": {},
     "output_type": "execute_result"
    }
   ],
   "source": [
    "a"
   ]
  },
  {
   "cell_type": "code",
   "execution_count": null,
   "id": "17c41451-7f0f-443a-9b01-104b542ed345",
   "metadata": {},
   "outputs": [],
   "source": []
  }
 ],
 "metadata": {
  "kernelspec": {
   "display_name": "Python 3 (ipykernel)",
   "language": "python",
   "name": "python3"
  },
  "language_info": {
   "codemirror_mode": {
    "name": "ipython",
    "version": 3
   },
   "file_extension": ".py",
   "mimetype": "text/x-python",
   "name": "python",
   "nbconvert_exporter": "python",
   "pygments_lexer": "ipython3",
   "version": "3.9.10"
  }
 },
 "nbformat": 4,
 "nbformat_minor": 5
}
