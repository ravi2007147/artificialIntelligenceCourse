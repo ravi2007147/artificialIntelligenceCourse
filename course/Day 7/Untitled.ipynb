{
 "cells": [
  {
   "cell_type": "code",
   "execution_count": 3,
   "id": "41d1b3c6-e081-4e51-b5d0-f6124a1149c3",
   "metadata": {},
   "outputs": [
    {
     "data": {
      "text/plain": [
       "array([3, 4, 5, 6])"
      ]
     },
     "execution_count": 3,
     "metadata": {},
     "output_type": "execute_result"
    }
   ],
   "source": [
    "import numpy as np\n",
    "array_list=np.array([3,4,5,6])\n",
    "array_list"
   ]
  },
  {
   "cell_type": "code",
   "execution_count": 5,
   "id": "5fc5ce09-1e93-496d-a178-bc890a68fa49",
   "metadata": {},
   "outputs": [
    {
     "data": {
      "text/plain": [
       "array([[3, 4],\n",
       "       [5, 6]])"
      ]
     },
     "execution_count": 5,
     "metadata": {},
     "output_type": "execute_result"
    }
   ],
   "source": [
    "array_list.reshape(2,2)"
   ]
  },
  {
   "cell_type": "code",
   "execution_count": 6,
   "id": "bafa4351-91a0-4e8d-aa7c-3af6407f547a",
   "metadata": {},
   "outputs": [
    {
     "data": {
      "text/plain": [
       "array([ 0,  1,  2,  3,  4,  5,  6,  7,  8,  9, 10, 11, 12, 13, 14])"
      ]
     },
     "execution_count": 6,
     "metadata": {},
     "output_type": "execute_result"
    }
   ],
   "source": [
    "np.arange(15)"
   ]
  },
  {
   "cell_type": "code",
   "execution_count": 14,
   "id": "e9ecb6cf-ef77-46c7-a665-09737172c8a7",
   "metadata": {},
   "outputs": [
    {
     "data": {
      "text/plain": [
       "array([ 1.        ,  1.48275862,  1.96551724,  2.44827586,  2.93103448,\n",
       "        3.4137931 ,  3.89655172,  4.37931034,  4.86206897,  5.34482759,\n",
       "        5.82758621,  6.31034483,  6.79310345,  7.27586207,  7.75862069,\n",
       "        8.24137931,  8.72413793,  9.20689655,  9.68965517, 10.17241379,\n",
       "       10.65517241, 11.13793103, 11.62068966, 12.10344828, 12.5862069 ,\n",
       "       13.06896552, 13.55172414, 14.03448276, 14.51724138, 15.        ])"
      ]
     },
     "execution_count": 14,
     "metadata": {},
     "output_type": "execute_result"
    }
   ],
   "source": [
    "np.linspace(1,2,30)\n",
    "np.linspace(1,15,30)"
   ]
  },
  {
   "cell_type": "code",
   "execution_count": null,
   "id": "f5297370-75b0-4f18-95b9-8acdc2f32413",
   "metadata": {},
   "outputs": [],
   "source": []
  }
 ],
 "metadata": {
  "kernelspec": {
   "display_name": "Python 3 (ipykernel)",
   "language": "python",
   "name": "python3"
  },
  "language_info": {
   "codemirror_mode": {
    "name": "ipython",
    "version": 3
   },
   "file_extension": ".py",
   "mimetype": "text/x-python",
   "name": "python",
   "nbconvert_exporter": "python",
   "pygments_lexer": "ipython3",
   "version": "3.9.10"
  }
 },
 "nbformat": 4,
 "nbformat_minor": 5
}
