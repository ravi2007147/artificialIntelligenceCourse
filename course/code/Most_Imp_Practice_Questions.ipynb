{
 "cells": [
  {
   "cell_type": "code",
   "execution_count": 2,
   "id": "c3e3a158",
   "metadata": {},
   "outputs": [
    {
     "ename": "SyntaxError",
     "evalue": "invalid syntax (4175461297.py, line 1)",
     "output_type": "error",
     "traceback": [
      "\u001b[0;36m  Input \u001b[0;32mIn [2]\u001b[0;36m\u001b[0m\n\u001b[0;31m    1.Write a Python program to calculate the area of a trapezoid\u001b[0m\n\u001b[0m      ^\u001b[0m\n\u001b[0;31mSyntaxError\u001b[0m\u001b[0;31m:\u001b[0m invalid syntax\n"
     ]
    }
   ],
   "source": [
    "1.Write a Python program to calculate the area of a trapezoid\n",
    "Note : A trapezoid is a quadrilateral with two sides parallel. The trapezoid is equivalent to the British definition of the trapezium. An isosceles trapezoid is a trapezoid in which the base angles are equal so.\n",
    "Test Data:\n",
    "Height : 5\n",
    "Base, first value : 5\n",
    "Base, second value : 6\n",
    "Expected Output: Area is : 27.5"
   ]
  },
  {
   "cell_type": "code",
   "execution_count": 3,
   "id": "d3ea70c3-5266-4966-810a-b1eb55eed478",
   "metadata": {},
   "outputs": [
    {
     "name": "stdout",
     "output_type": "stream",
     "text": [
      "Area of trapezoid  27.5\n"
     ]
    }
   ],
   "source": [
    "a=5\n",
    "b=6\n",
    "h=5\n",
    "print(\"Area of trapezoid \",((a+b)/2*h))"
   ]
  },
  {
   "cell_type": "code",
   "execution_count": null,
   "id": "e660835e",
   "metadata": {},
   "outputs": [],
   "source": [
    "2.Write a Python program to calculate the surface volume and area of a cylinder.\n",
    "Note: A cylinder is one of the most basic curvilinear geometric shapes, the surface formed by the points at a fixed distance from a given straight line, the axis of the cylinder.\n",
    "Test Data:\n",
    "volume : Height (4), Radius(6)\n",
    "Expected Output:\n",
    "Volume is : 452.57142857142856\n",
    "Surface Area is : 377.1428571428571"
   ]
  },
  {
   "cell_type": "code",
   "execution_count": 7,
   "id": "3f61adb7-9d6a-4c1d-8804-8cc4c0e0e96a",
   "metadata": {},
   "outputs": [
    {
     "name": "stdout",
     "output_type": "stream",
     "text": [
      "Volume of a cylinder is  452.57142857142856\n",
      "Surface area of a cylinder is  377.1428571428571\n"
     ]
    }
   ],
   "source": [
    "h=4\n",
    "r=6\n",
    "v=22/7*(r**2)*h\n",
    "pi=22/7\n",
    "print(\"Volume of a cylinder is \",v)\n",
    "#surface area of a cylendar is (area of two circular base+(height of a cylendar and cicumference of a circle))\n",
    "s = 2*pi*(r**2)+h* 2*pi*r\n",
    "print(\"Surface area of a cylinder is \",s)"
   ]
  },
  {
   "cell_type": "code",
   "execution_count": null,
   "id": "2eaf3918",
   "metadata": {},
   "outputs": [],
   "source": [
    "3. Write a Python program to find the smallest multiple of the first n numbers. Also, display the factors.\n",
    "Test Data:\n",
    "If n = (13)\n",
    "Expected Output :\n",
    "[13, 12, 11, 10, 9, 8, 7]\n",
    "360360"
   ]
  },
  {
   "cell_type": "code",
   "execution_count": 7,
   "id": "ca63cf52-36cb-4bec-91ba-ae8f11c8d87c",
   "metadata": {},
   "outputs": [
    {
     "name": "stdout",
     "output_type": "stream",
     "text": [
      "Smallest multiple: 360360\n",
      "Factors: [1, 2, 3, 4, 5, 6, 7, 8, 9, 10, 11, 12, 13]\n"
     ]
    }
   ],
   "source": [
    "def find_smallest_multiple(n):\n",
    "    factors = []\n",
    "    smallest_multiple = n\n",
    "    while True:\n",
    "        factors.clear()\n",
    "        for i in range(1, n + 1):\n",
    "            if smallest_multiple % i != 0:\n",
    "                \n",
    "                smallest_multiple += n\n",
    "                break\n",
    "            factors.append(i)\n",
    "        else:\n",
    "            break\n",
    "    return smallest_multiple, factors\n",
    "\n",
    "\n",
    "n = 13\n",
    "smallest_multiple, factors = find_smallest_multiple(n)\n",
    "\n",
    "print(\"Smallest multiple:\", smallest_multiple)\n",
    "print(\"Factors:\", factors)\n"
   ]
  },
  {
   "cell_type": "code",
   "execution_count": 8,
   "id": "099a17d2-5564-4deb-9306-470799580c98",
   "metadata": {},
   "outputs": [
    {
     "name": "stdout",
     "output_type": "stream",
     "text": [
      "360360 is divisible by 1\n",
      "360360 is divisible by 2\n",
      "360360 is divisible by 3\n",
      "360360 is divisible by 4\n",
      "360360 is divisible by 5\n",
      "360360 is divisible by 6\n",
      "360360 is divisible by 7\n",
      "360360 is divisible by 8\n",
      "360360 is divisible by 9\n",
      "360360 is divisible by 10\n",
      "360360 is divisible by 11\n",
      "360360 is divisible by 12\n",
      "360360 is divisible by 13\n"
     ]
    }
   ],
   "source": [
    "a = 360360\n",
    "\n",
    "for x in range(1,14):\n",
    "    if a % x == 0:\n",
    "        print(f\"{a} is divisible by {x}\")"
   ]
  },
  {
   "cell_type": "code",
   "execution_count": null,
   "id": "812316c4",
   "metadata": {},
   "outputs": [],
   "source": [
    "4.Write a Python program to calculate the difference between the squared sum of the first n natural numbers and the sum of squared first n natural numbers.(default value of number=2).\n",
    "Test Data:\n",
    "If sum_difference(12)\n",
    "Expected Output :\n",
    "5434"
   ]
  },
  {
   "cell_type": "code",
   "execution_count": 16,
   "id": "2002f4f3",
   "metadata": {},
   "outputs": [
    {
     "name": "stdout",
     "output_type": "stream",
     "text": [
      "hello \n",
      " man\n"
     ]
    }
   ],
   "source": [
    "print('hello \\n man')"
   ]
  },
  {
   "cell_type": "code",
   "execution_count": 19,
   "id": "8809a0a9",
   "metadata": {},
   "outputs": [
    {
     "data": {
      "text/plain": [
       "<re.Match object; span=(14, 21), match='June 30'>"
      ]
     },
     "execution_count": 19,
     "metadata": {},
     "output_type": "execute_result"
    }
   ],
   "source": [
    "import re\n",
    "regex=r\"([a-zA-Z]+ (\\d+))\"\n",
    "match = re.search(regex,\"I was born on June 30\")\n",
    "match"
   ]
  },
  {
   "cell_type": "code",
   "execution_count": null,
   "id": "ad9e24a5-38dd-4db7-840c-99689129c409",
   "metadata": {},
   "outputs": [],
   "source": []
  },
  {
   "cell_type": "code",
   "execution_count": null,
   "id": "e075f4c3",
   "metadata": {},
   "outputs": [],
   "source": []
  },
  {
   "cell_type": "code",
   "execution_count": null,
   "id": "1a8aeed0",
   "metadata": {},
   "outputs": [],
   "source": []
  },
  {
   "cell_type": "code",
   "execution_count": null,
   "id": "42033ef0",
   "metadata": {},
   "outputs": [],
   "source": []
  },
  {
   "cell_type": "code",
   "execution_count": null,
   "id": "1bc14c82",
   "metadata": {},
   "outputs": [],
   "source": []
  },
  {
   "cell_type": "code",
   "execution_count": null,
   "id": "eb6a32e0",
   "metadata": {},
   "outputs": [],
   "source": [
    "#1.Solution\n",
    "base_1 = 5\n",
    "base_2 = 6\n",
    "height = float(input(\"Height of trapezoid: \"))\n",
    "base_1 = float(input('Base one value: '))\n",
    "base_2 = float(input('Base two value: '))\n",
    "area = ((base_1 + base_2) / 2) * height\n",
    "print(\"Area is:\", area)"
   ]
  },
  {
   "cell_type": "code",
   "execution_count": null,
   "id": "8eb6d3e4",
   "metadata": {},
   "outputs": [],
   "source": [
    "#2. solution\n",
    "pi=22/7\n",
    "height = float(input('Height of cylinder: '))\n",
    "radian = float(input('Radius of cylinder: '))\n",
    "volume = pi * radian * radian * height\n",
    "sur_area = ((2*pi*radian) * height) + ((pi*radian**2)*2)\n",
    "print(\"Volume is: \", volume)\n",
    "print(\"Surface Area is: \", sur_area)"
   ]
  },
  {
   "cell_type": "code",
   "execution_count": null,
   "id": "0d2725b7",
   "metadata": {},
   "outputs": [],
   "source": [
    "#3.Solution\n",
    "def smallest_multiple(n):\n",
    "    if (n<=2):\n",
    "        return n\n",
    "    i = n * 2\n",
    "    factors = [number  for number in range(n, 1, -1) if number * 2 > n]\n",
    "    print(factors)\n",
    "\n",
    "    while True:\n",
    "        for a in factors:\n",
    "            if i % a != 0:\n",
    "                i += n\n",
    "                break\n",
    "            if (a == factors[-1] and i % a == 0):\n",
    "                return i\n",
    "                \n",
    "print(smallest_multiple(13))\n",
    "print(smallest_multiple(11))\n",
    "print(smallest_multiple(2))\n",
    "print(smallest_multiple(1))"
   ]
  },
  {
   "cell_type": "code",
   "execution_count": 1,
   "id": "8468b354",
   "metadata": {},
   "outputs": [
    {
     "name": "stdout",
     "output_type": "stream",
     "text": [
      "5434\n"
     ]
    }
   ],
   "source": [
    "#4. Solution\n",
    "def sum_difference(n=2):\n",
    "    sum_of_squares = 0\n",
    "    square_of_sum = 0\n",
    "    for num in range(1, n+1):\n",
    "        sum_of_squares += num * num\n",
    "        square_of_sum += num\n",
    "\n",
    "    square_of_sum = square_of_sum ** 2\n",
    "\n",
    "    return square_of_sum - sum_of_squares\n",
    "\n",
    "\n",
    "print(sum_difference(12))"
   ]
  },
  {
   "cell_type": "code",
   "execution_count": 39,
   "id": "0951a973-9173-4c91-b2f7-03ff039958ea",
   "metadata": {},
   "outputs": [
    {
     "name": "stdout",
     "output_type": "stream",
     "text": [
      "None\n"
     ]
    }
   ],
   "source": [
    "a=r'This is an great article @Bharath. You have explained the complex topic in a very simplistic manner.@Yashwant, you might find this article to be useful.'\n",
    "a=re.search('@[a-zA-z]+\\s',a)\n",
    "print(a)"
   ]
  },
  {
   "cell_type": "code",
   "execution_count": 42,
   "id": "f9cdf487-9933-49ca-a5f1-b0d7757528fc",
   "metadata": {},
   "outputs": [
    {
     "name": "stdout",
     "output_type": "stream",
     "text": [
      "['Bharath', 'Yashwant']\n"
     ]
    }
   ],
   "source": [
    "data=r'This is an great article @Bharath. You have explained the complex topic in a very simplistic manner.@Yashwant, you might find this article to be useful.'\n",
    "pattern = r'@([a-zA-Z]+)'\n",
    "usernames = re.findall(pattern, data)\n",
    "print(usernames)"
   ]
  },
  {
   "cell_type": "code",
   "execution_count": null,
   "id": "3c360ecb-72f6-4911-a989-54a71fb32da1",
   "metadata": {},
   "outputs": [],
   "source": []
  }
 ],
 "metadata": {
  "kernelspec": {
   "display_name": "Python 3 (ipykernel)",
   "language": "python",
   "name": "python3"
  },
  "language_info": {
   "codemirror_mode": {
    "name": "ipython",
    "version": 3
   },
   "file_extension": ".py",
   "mimetype": "text/x-python",
   "name": "python",
   "nbconvert_exporter": "python",
   "pygments_lexer": "ipython3",
   "version": "3.9.10"
  }
 },
 "nbformat": 4,
 "nbformat_minor": 5
}
