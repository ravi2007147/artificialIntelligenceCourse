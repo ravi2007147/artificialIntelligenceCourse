{
 "cells": [
  {
   "cell_type": "code",
   "execution_count": 2,
   "id": "1dbb2cd6-4af3-4bcd-a210-4c42631fc168",
   "metadata": {},
   "outputs": [
    {
     "name": "stdout",
     "output_type": "stream",
     "text": [
      "[10, 12, 14, [1, 20]]\n"
     ]
    }
   ],
   "source": [
    "import copy\n",
    "a=[10,12,14,[1,2]]\n",
    "b=a\n",
    "c=a.copy()\n",
    "d=copy.deepcopy(a)\n",
    "e=copy.copy(a)\n",
    "b[3][1]=20\n",
    "print(a)"
   ]
  },
  {
   "cell_type": "code",
   "execution_count": 3,
   "id": "3d10e3f7-7cf0-40f3-8347-37ed45b373c4",
   "metadata": {},
   "outputs": [
    {
     "name": "stdout",
     "output_type": "stream",
     "text": [
      "[10, 12, 14, [1, 20]]\n"
     ]
    }
   ],
   "source": [
    "print(b)"
   ]
  },
  {
   "cell_type": "code",
   "execution_count": 4,
   "id": "f0f46461-b217-4aac-90cd-d88cb773df3b",
   "metadata": {},
   "outputs": [
    {
     "name": "stdout",
     "output_type": "stream",
     "text": [
      "[10, 12, 14, [1, 20]]\n"
     ]
    }
   ],
   "source": [
    "print(c)"
   ]
  },
  {
   "cell_type": "code",
   "execution_count": 5,
   "id": "ddbc045c-8630-48ec-91e9-0c8eb00347bc",
   "metadata": {},
   "outputs": [
    {
     "name": "stdout",
     "output_type": "stream",
     "text": [
      "[10, 12, 14, [1, 2]]\n"
     ]
    }
   ],
   "source": [
    "print(d)"
   ]
  },
  {
   "cell_type": "code",
   "execution_count": 6,
   "id": "d5462340-0af0-4917-84b8-719dba410a13",
   "metadata": {},
   "outputs": [
    {
     "name": "stdout",
     "output_type": "stream",
     "text": [
      "[10, 12, 14, [1, 20]]\n"
     ]
    }
   ],
   "source": [
    "print(e)"
   ]
  },
  {
   "cell_type": "code",
   "execution_count": 19,
   "id": "71bd8fda-06c2-43dd-9aac-e5814b4488eb",
   "metadata": {},
   "outputs": [
    {
     "data": {
      "text/plain": [
       "array([37, 43, 52])"
      ]
     },
     "execution_count": 19,
     "metadata": {},
     "output_type": "execute_result"
    }
   ],
   "source": [
    "import numpy as np\n",
    "aa=np.array([[[1,2,3],[13,20,34]],[[3,4,5],[37,43,52]]])\n",
    "aa[1,1]"
   ]
  },
  {
   "cell_type": "code",
   "execution_count": 20,
   "id": "62b860b2-3f67-4189-bd0b-71195fd0ce7e",
   "metadata": {},
   "outputs": [
    {
     "data": {
      "text/plain": [
       "array([ 0.,  5., 10.])"
      ]
     },
     "execution_count": 20,
     "metadata": {},
     "output_type": "execute_result"
    }
   ],
   "source": [
    "np.linspace(0,10,3)"
   ]
  },
  {
   "cell_type": "code",
   "execution_count": 21,
   "id": "ae6f39de-f540-481d-b17e-1969ae18f12f",
   "metadata": {},
   "outputs": [
    {
     "data": {
      "text/plain": [
       "array([ 1.,  2.,  3.,  4.,  5.,  6.,  7.,  8.,  9., 10.])"
      ]
     },
     "execution_count": 21,
     "metadata": {},
     "output_type": "execute_result"
    }
   ],
   "source": [
    "np.linspace(1,10,10)"
   ]
  },
  {
   "cell_type": "code",
   "execution_count": 22,
   "id": "6d1085f6-3415-47ed-8821-dbfea611dbef",
   "metadata": {},
   "outputs": [
    {
     "data": {
      "text/plain": [
       "array([ 0.        ,  1.11111111,  2.22222222,  3.33333333,  4.44444444,\n",
       "        5.55555556,  6.66666667,  7.77777778,  8.88888889, 10.        ])"
      ]
     },
     "execution_count": 22,
     "metadata": {},
     "output_type": "execute_result"
    }
   ],
   "source": [
    "np.linspace(0,10,10)"
   ]
  },
  {
   "cell_type": "code",
   "execution_count": 23,
   "id": "a04690df-746f-4609-a5ca-c835897905c2",
   "metadata": {},
   "outputs": [
    {
     "data": {
      "text/plain": [
       "array([[7, 7, 6, 9, 6, 7],\n",
       "       [9, 6, 7, 7, 6, 7],\n",
       "       [7, 8, 6, 7, 6, 8],\n",
       "       [6, 8, 6, 9, 6, 6],\n",
       "       [9, 9, 8, 6, 9, 8],\n",
       "       [8, 7, 6, 6, 8, 7],\n",
       "       [9, 8, 7, 7, 7, 9],\n",
       "       [7, 8, 7, 6, 8, 8]])"
      ]
     },
     "execution_count": 23,
     "metadata": {},
     "output_type": "execute_result"
    }
   ],
   "source": [
    "np.random.seed(10)\n",
    "np.random.randint( 6, 10, (8,6) )"
   ]
  },
  {
   "cell_type": "code",
   "execution_count": 31,
   "id": "c7923af0-005f-47ed-8fde-970a96e74fe2",
   "metadata": {},
   "outputs": [
    {
     "data": {
      "text/plain": [
       "array([[ 0,  1,  2,  3,  4],\n",
       "       [ 5,  6,  7,  8,  9],\n",
       "       [10, 11, 12, 13, 14],\n",
       "       [15, 16, 17, 18, 19]])"
      ]
     },
     "execution_count": 31,
     "metadata": {},
     "output_type": "execute_result"
    }
   ],
   "source": [
    "np.arange(20).reshape(4,5)"
   ]
  },
  {
   "cell_type": "code",
   "execution_count": 32,
   "id": "32011906-46a2-4be4-a235-53bc988930e6",
   "metadata": {},
   "outputs": [
    {
     "data": {
      "text/plain": [
       "[2, 3, 4, 5, 26, 8]"
      ]
     },
     "execution_count": 32,
     "metadata": {},
     "output_type": "execute_result"
    }
   ],
   "source": [
    "a=[2,3,4,5]\n",
    "b=[26,8]\n",
    "a+b"
   ]
  },
  {
   "cell_type": "code",
   "execution_count": 35,
   "id": "680bedfe-e03e-4b82-afa4-d138e89177f6",
   "metadata": {},
   "outputs": [],
   "source": [
    "import pandas as pd\n",
    "s1=pd.Series([0,2,4,6,8,10,12])\n",
    "s2=pd.Series([0,3,6,9,12,15])\n",
    "s1[s1.isin(s2)].index=s2[s2.isin(s1)].index"
   ]
  },
  {
   "cell_type": "code",
   "execution_count": 36,
   "id": "64f7e031-2659-42b1-84f1-5addd31babdb",
   "metadata": {},
   "outputs": [],
   "source": [
    "first = {\"Teams\":[[\"chelesa\",38,30],[\"To\",38,26],[\"FE\",48,16]]}"
   ]
  },
  {
   "cell_type": "code",
   "execution_count": 37,
   "id": "8a9969c2-cd0a-442d-961f-8a13d38bf20b",
   "metadata": {},
   "outputs": [
    {
     "data": {
      "text/plain": [
       "{'Teams': [['chelesa', 38, 30], ['To', 38, 26], ['FE', 48, 16]]}"
      ]
     },
     "execution_count": 37,
     "metadata": {},
     "output_type": "execute_result"
    }
   ],
   "source": [
    "first"
   ]
  },
  {
   "cell_type": "code",
   "execution_count": null,
   "id": "a619fc79-a6ee-4128-8d6d-4272ea52a309",
   "metadata": {},
   "outputs": [],
   "source": [
    "a1=pd."
   ]
  }
 ],
 "metadata": {
  "kernelspec": {
   "display_name": "Python 3 (ipykernel)",
   "language": "python",
   "name": "python3"
  },
  "language_info": {
   "codemirror_mode": {
    "name": "ipython",
    "version": 3
   },
   "file_extension": ".py",
   "mimetype": "text/x-python",
   "name": "python",
   "nbconvert_exporter": "python",
   "pygments_lexer": "ipython3",
   "version": "3.9.10"
  }
 },
 "nbformat": 4,
 "nbformat_minor": 5
}
