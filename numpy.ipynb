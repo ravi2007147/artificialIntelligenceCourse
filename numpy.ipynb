{
 "cells": [
  {
   "cell_type": "code",
   "execution_count": 1,
   "id": "6b6b374d-8aef-4914-a7af-f2e707fd61b4",
   "metadata": {},
   "outputs": [
    {
     "data": {
      "text/plain": [
       "array([ 0,  3, -1,  5, 10])"
      ]
     },
     "execution_count": 1,
     "metadata": {},
     "output_type": "execute_result"
    }
   ],
   "source": [
    "a = [0, 3, -1, 5, 10]\n",
    "import numpy as np\n",
    "n=np.array(a)\n",
    "n"
   ]
  },
  {
   "cell_type": "code",
   "execution_count": 2,
   "id": "babcbc05-1eac-4a2f-a4a6-4f76b0c8881f",
   "metadata": {},
   "outputs": [
    {
     "data": {
      "text/plain": [
       "numpy.ndarray"
      ]
     },
     "execution_count": 2,
     "metadata": {},
     "output_type": "execute_result"
    }
   ],
   "source": [
    "type(n)"
   ]
  },
  {
   "cell_type": "code",
   "execution_count": 3,
   "id": "6756a206-be26-46fb-ae0b-9b10653566e1",
   "metadata": {},
   "outputs": [
    {
     "data": {
      "text/plain": [
       "dtype('int64')"
      ]
     },
     "execution_count": 3,
     "metadata": {},
     "output_type": "execute_result"
    }
   ],
   "source": [
    "n.dtype"
   ]
  },
  {
   "cell_type": "code",
   "execution_count": 4,
   "id": "e8c36798-1b24-41c8-8532-b3a37d31376d",
   "metadata": {},
   "outputs": [
    {
     "data": {
      "text/plain": [
       "5"
      ]
     },
     "execution_count": 4,
     "metadata": {},
     "output_type": "execute_result"
    }
   ],
   "source": [
    "n.size"
   ]
  },
  {
   "cell_type": "code",
   "execution_count": 5,
   "id": "ccae39f8-46b2-4114-8351-0436ecf05dac",
   "metadata": {},
   "outputs": [
    {
     "data": {
      "text/plain": [
       "1"
      ]
     },
     "execution_count": 5,
     "metadata": {},
     "output_type": "execute_result"
    }
   ],
   "source": [
    "n.ndim"
   ]
  },
  {
   "cell_type": "code",
   "execution_count": 6,
   "id": "9c3dc82f-307a-4110-b115-023dc05c4026",
   "metadata": {},
   "outputs": [
    {
     "data": {
      "text/plain": [
       "(5,)"
      ]
     },
     "execution_count": 6,
     "metadata": {},
     "output_type": "execute_result"
    }
   ],
   "source": [
    "n.shape"
   ]
  },
  {
   "cell_type": "code",
   "execution_count": 7,
   "id": "1eb574ad-7515-4cbc-97c5-b51e634e21b8",
   "metadata": {},
   "outputs": [],
   "source": [
    "n[1:4]=100,1500,2500"
   ]
  },
  {
   "cell_type": "code",
   "execution_count": 32,
   "id": "aa47e7c7-8b85-45d9-a507-53f2514df69b",
   "metadata": {},
   "outputs": [
    {
     "data": {
      "text/plain": [
       "array([   0,  100, 1500, 2500,   10])"
      ]
     },
     "execution_count": 32,
     "metadata": {},
     "output_type": "execute_result"
    }
   ],
   "source": [
    "n"
   ]
  },
  {
   "cell_type": "code",
   "execution_count": 33,
   "id": "5c351f4d-c353-4586-aa8d-c2b0fcbe4a6d",
   "metadata": {},
   "outputs": [
    {
     "data": {
      "text/plain": [
       "array([3, 4])"
      ]
     },
     "execution_count": 33,
     "metadata": {},
     "output_type": "execute_result"
    }
   ],
   "source": [
    "u=np.array([1,2])\n",
    "y=np.array([3,2])\n",
    "z= u * y\n",
    "z"
   ]
  },
  {
   "cell_type": "code",
   "execution_count": 35,
   "id": "8cfa88f9-2768-4be3-a097-c2333a6a2c93",
   "metadata": {},
   "outputs": [
    {
     "data": {
      "text/plain": [
       "[3, 4]"
      ]
     },
     "execution_count": 35,
     "metadata": {},
     "output_type": "execute_result"
    }
   ],
   "source": [
    "u=[1,2]\n",
    "v=[3,2]\n",
    "z=[]\n",
    "\n",
    "for x,y in zip(u,v):\n",
    "    z.append(x*y)\n",
    "\n",
    "z"
   ]
  },
  {
   "cell_type": "code",
   "execution_count": 36,
   "id": "fb0f901d-21b5-4f3b-bbbb-3abc08857fea",
   "metadata": {},
   "outputs": [
    {
     "data": {
      "text/plain": [
       "7"
      ]
     },
     "execution_count": 36,
     "metadata": {},
     "output_type": "execute_result"
    }
   ],
   "source": [
    "np.dot(u,v)"
   ]
  },
  {
   "cell_type": "code",
   "execution_count": 38,
   "id": "b6cd1224-a911-4c2e-b249-6914da4e686f",
   "metadata": {},
   "outputs": [
    {
     "data": {
      "text/plain": [
       "array([-5.        , -3.88888889, -2.77777778, -1.66666667, -0.55555556,\n",
       "        0.55555556,  1.66666667,  2.77777778,  3.88888889,  5.        ])"
      ]
     },
     "execution_count": 38,
     "metadata": {},
     "output_type": "execute_result"
    }
   ],
   "source": [
    "np.linspace(-5,5,10)"
   ]
  },
  {
   "cell_type": "code",
   "execution_count": 40,
   "id": "2e4284d8-765b-4af5-bb17-002e83215491",
   "metadata": {},
   "outputs": [],
   "source": [
    "x=np.linspace(0,2*np.pi,100)"
   ]
  },
  {
   "cell_type": "code",
   "execution_count": 47,
   "id": "01199aea-0c53-4ed8-8e2b-57754f2f13f2",
   "metadata": {},
   "outputs": [
    {
     "data": {
      "text/plain": [
       "[<matplotlib.lines.Line2D at 0x7fea364ee1f0>]"
      ]
     },
     "execution_count": 47,
     "metadata": {},
     "output_type": "execute_result"
    },
    {
     "data": {
      "image/png": "[encoded data removed]",
      "text/plain": [
       "<Figure size 432x288 with 1 Axes>"
      ]
     },
     "metadata": {
      "needs_background": "light"
     },
     "output_type": "display_data"
    }
   ],
   "source": [
    "y=np.sin(x)\n",
    "import matplotlib.pyplot as plt\n",
    "plt.plot(x,y)"
   ]
  },
  {
   "cell_type": "code",
   "execution_count": 8,
   "id": "89612c2c-cf98-436a-a258-9a7753906461",
   "metadata": {},
   "outputs": [],
   "source": [
    "n=np.array(5)"
   ]
  },
  {
   "cell_type": "code",
   "execution_count": 9,
   "id": "2426aa25-9160-4833-9b30-0cd174770d24",
   "metadata": {},
   "outputs": [
    {
     "data": {
      "text/plain": [
       "array(5)"
      ]
     },
     "execution_count": 9,
     "metadata": {},
     "output_type": "execute_result"
    }
   ],
   "source": [
    "n"
   ]
  },
  {
   "cell_type": "code",
   "execution_count": 12,
   "id": "47533df2-9918-4b32-a8f5-ebe9a4b68a54",
   "metadata": {},
   "outputs": [
    {
     "name": "stdout",
     "output_type": "stream",
     "text": [
      "5\n"
     ]
    }
   ],
   "source": [
    "print(n)"
   ]
  },
  {
   "cell_type": "code",
   "execution_count": 13,
   "id": "3e9aef3e-35ff-478b-b3e0-11c45dd95709",
   "metadata": {},
   "outputs": [],
   "source": [
    "n=np.array([3,4,67,4])"
   ]
  },
  {
   "cell_type": "code",
   "execution_count": 14,
   "id": "1e2cdcfa-08d4-4a9e-90ee-1fc47f3de88b",
   "metadata": {},
   "outputs": [
    {
     "data": {
      "text/plain": [
       "array([ 3,  4, 67,  4])"
      ]
     },
     "execution_count": 14,
     "metadata": {},
     "output_type": "execute_result"
    }
   ],
   "source": [
    "n"
   ]
  },
  {
   "cell_type": "code",
   "execution_count": 15,
   "id": "8694ae26-3663-4304-87ff-5cd6fbf95344",
   "metadata": {},
   "outputs": [
    {
     "data": {
      "text/plain": [
       "3"
      ]
     },
     "execution_count": 15,
     "metadata": {},
     "output_type": "execute_result"
    }
   ],
   "source": [
    "n[0]"
   ]
  },
  {
   "cell_type": "code",
   "execution_count": 16,
   "id": "efe418e5-c93b-4a82-a345-6d9057164a18",
   "metadata": {},
   "outputs": [],
   "source": [
    "n=np.array(3)"
   ]
  },
  {
   "cell_type": "code",
   "execution_count": 17,
   "id": "ab592f11-9bb6-40ae-99fa-d4232beaf4b0",
   "metadata": {},
   "outputs": [
    {
     "data": {
      "text/plain": [
       "()"
      ]
     },
     "execution_count": 17,
     "metadata": {},
     "output_type": "execute_result"
    }
   ],
   "source": [
    "n.shape"
   ]
  },
  {
   "cell_type": "code",
   "execution_count": 19,
   "id": "899a1c60-c830-4414-9919-328d584377c8",
   "metadata": {},
   "outputs": [
    {
     "data": {
      "text/plain": [
       "(3,)"
      ]
     },
     "execution_count": 19,
     "metadata": {},
     "output_type": "execute_result"
    }
   ],
   "source": [
    "n=np.array([2,3,4])\n",
    "n.shape"
   ]
  },
  {
   "cell_type": "code",
   "execution_count": 21,
   "id": "23f71e42-c20f-42f7-b9b8-d49887dd1d0c",
   "metadata": {},
   "outputs": [
    {
     "data": {
      "text/plain": [
       "(2, 4)"
      ]
     },
     "execution_count": 21,
     "metadata": {},
     "output_type": "execute_result"
    }
   ],
   "source": [
    "n=np.array([[2,34,5,6],[2,3,4,8]])\n",
    "n.shape"
   ]
  },
  {
   "cell_type": "code",
   "execution_count": 22,
   "id": "a9fc1a88-8db7-46e1-ae95-33fc290928cb",
   "metadata": {},
   "outputs": [
    {
     "data": {
      "text/plain": [
       "(4, 2, 3)"
      ]
     },
     "execution_count": 22,
     "metadata": {},
     "output_type": "execute_result"
    }
   ],
   "source": [
    "n=np.array([[[2,34,5],[6,7,8]],[[2,34,5],[6,7,8]],[[2,34,5],[6,7,8]],[[2,34,5],[6,7,8]]])\n",
    "n.shape"
   ]
  },
  {
   "cell_type": "code",
   "execution_count": 23,
   "id": "7be25bf8-8a01-4e6b-a0ab-316dc95a2385",
   "metadata": {},
   "outputs": [
    {
     "data": {
      "text/plain": [
       "3"
      ]
     },
     "execution_count": 23,
     "metadata": {},
     "output_type": "execute_result"
    }
   ],
   "source": [
    "n.ndim"
   ]
  },
  {
   "cell_type": "code",
   "execution_count": 31,
   "id": "12fe448c-ebe3-4593-a203-f010ea062753",
   "metadata": {},
   "outputs": [],
   "source": [
    "numpy_array=np.array([x for x in range(1,9)])"
   ]
  },
  {
   "cell_type": "code",
   "execution_count": 32,
   "id": "aa17577b-df79-4899-8a9e-c04d3b4b3d3f",
   "metadata": {},
   "outputs": [
    {
     "data": {
      "text/plain": [
       "array([1, 2, 3, 4, 5, 6, 7, 8])"
      ]
     },
     "execution_count": 32,
     "metadata": {},
     "output_type": "execute_result"
    }
   ],
   "source": [
    "numpy_array"
   ]
  },
  {
   "cell_type": "code",
   "execution_count": 34,
   "id": "8876d5a3-7822-412b-9e6b-d6d81437c826",
   "metadata": {},
   "outputs": [
    {
     "data": {
      "text/plain": [
       "array([[[1, 2],\n",
       "        [3, 4]],\n",
       "\n",
       "       [[5, 6],\n",
       "        [7, 8]]])"
      ]
     },
     "execution_count": 34,
     "metadata": {},
     "output_type": "execute_result"
    }
   ],
   "source": [
    "n=numpy_array.reshape(2,2,-1)\n",
    "n"
   ]
  },
  {
   "cell_type": "code",
   "execution_count": 35,
   "id": "7fe00dbd-2da6-4d00-b263-135a289e7da0",
   "metadata": {},
   "outputs": [
    {
     "data": {
      "text/plain": [
       "array([1, 2, 3, 4, 5, 6, 7, 8])"
      ]
     },
     "execution_count": 35,
     "metadata": {},
     "output_type": "execute_result"
    }
   ],
   "source": [
    "n.reshape(-1)"
   ]
  },
  {
   "cell_type": "code",
   "execution_count": 37,
   "id": "1e3777ec-dff3-411b-8678-9c3d8c8ec3b2",
   "metadata": {},
   "outputs": [
    {
     "name": "stdout",
     "output_type": "stream",
     "text": [
      "5\n",
      "4\n",
      "3\n",
      "2\n"
     ]
    }
   ],
   "source": [
    "for i in [2,3,4,5][::-1]:\n",
    "    print(i)"
   ]
  },
  {
   "cell_type": "code",
   "execution_count": 39,
   "id": "b307173c-f0ca-4dfb-9351-adedb4ca6dc9",
   "metadata": {},
   "outputs": [
    {
     "data": {
      "text/plain": [
       "[4, 3, 2, 1]"
      ]
     },
     "execution_count": 39,
     "metadata": {},
     "output_type": "execute_result"
    }
   ],
   "source": [
    "a=[1,2,3,4][::-1]\n",
    "a"
   ]
  },
  {
   "cell_type": "code",
   "execution_count": 43,
   "id": "2c41d83f-5a16-47a0-877f-435928512c43",
   "metadata": {},
   "outputs": [
    {
     "data": {
      "text/plain": [
       "8"
      ]
     },
     "execution_count": 43,
     "metadata": {},
     "output_type": "execute_result"
    }
   ],
   "source": [
    "a=-16\n",
    "a//-2"
   ]
  },
  {
   "cell_type": "code",
   "execution_count": 44,
   "id": "e1e22942-5b6a-468e-b5cb-095cafb9f5b6",
   "metadata": {},
   "outputs": [
    {
     "data": {
      "text/plain": [
       "61917364224"
      ]
     },
     "execution_count": 44,
     "metadata": {},
     "output_type": "execute_result"
    }
   ],
   "source": [
    "a=12\n",
    "a**=10\n",
    "a"
   ]
  },
  {
   "cell_type": "code",
   "execution_count": 45,
   "id": "503cbc15-a4c5-47ce-beb3-bd6eb88fc2df",
   "metadata": {},
   "outputs": [
    {
     "data": {
      "text/plain": [
       "140630956057328"
      ]
     },
     "execution_count": 45,
     "metadata": {},
     "output_type": "execute_result"
    }
   ],
   "source": [
    "a=\"sdfsd\"\n",
    "id(a)"
   ]
  },
  {
   "cell_type": "code",
   "execution_count": 46,
   "id": "ab2c7b16-14a2-4694-8d68-e246a731328f",
   "metadata": {},
   "outputs": [],
   "source": [
    "a=\"xyz\""
   ]
  },
  {
   "cell_type": "code",
   "execution_count": 47,
   "id": "7dc4c9f2-241b-437a-b2b9-67a67f50aae7",
   "metadata": {},
   "outputs": [
    {
     "data": {
      "text/plain": [
       "140630955838960"
      ]
     },
     "execution_count": 47,
     "metadata": {},
     "output_type": "execute_result"
    }
   ],
   "source": [
    "id(a)"
   ]
  },
  {
   "cell_type": "code",
   "execution_count": 48,
   "id": "934936a7-6ada-4a79-8aa5-aea4bf4cb015",
   "metadata": {},
   "outputs": [
    {
     "name": "stdin",
     "output_type": "stream",
     "text": [
      "Enter name and age ravi,10\n"
     ]
    },
    {
     "name": "stdout",
     "output_type": "stream",
     "text": [
      "['ravi', '10']\n"
     ]
    }
   ],
   "source": [
    "print(input(\"Enter name and age\").split(\",\"))"
   ]
  },
  {
   "cell_type": "code",
   "execution_count": 53,
   "id": "125d5db5-ec08-4d33-8aac-b926bd3df95f",
   "metadata": {},
   "outputs": [],
   "source": [
    "an=34\n",
    "a=f\"hello how \\n are you {an}\""
   ]
  },
  {
   "cell_type": "code",
   "execution_count": 54,
   "id": "c9223d05-2853-41af-9556-a83a9d17290d",
   "metadata": {},
   "outputs": [
    {
     "data": {
      "text/plain": [
       "'hello how \\n are you 34'"
      ]
     },
     "execution_count": 54,
     "metadata": {},
     "output_type": "execute_result"
    }
   ],
   "source": [
    "a"
   ]
  },
  {
   "cell_type": "code",
   "execution_count": null,
   "id": "2e7dbb7a-5cf4-4e75-82ce-7fbccaca0689",
   "metadata": {},
   "outputs": [],
   "source": []
  },
  {
   "cell_type": "code",
   "execution_count": 73,
   "id": "63cb7abb-85d8-4ba2-a97d-7b8fcab24e6b",
   "metadata": {},
   "outputs": [
    {
     "data": {
      "text/plain": [
       "'u'"
      ]
     },
     "execution_count": 73,
     "metadata": {},
     "output_type": "execute_result"
    }
   ],
   "source": [
    "n=\"Valueandvaluation@132\"\n",
    "n[11:-11:-3]"
   ]
  },
  {
   "cell_type": "code",
   "execution_count": 8,
   "id": "2d099c6d-1c22-41de-aedd-aa467ac585a6",
   "metadata": {},
   "outputs": [
    {
     "name": "stdin",
     "output_type": "stream",
     "text": [
      "Enter value for a:  10\n",
      "Enter value for b:  5\n",
      "Enter 1 for add, 2 for sub, 3 for mult, 4 for div 5\n"
     ]
    },
    {
     "name": "stdout",
     "output_type": "stream",
     "text": [
      "Wrong number entered\n"
     ]
    }
   ],
   "source": [
    "a=int(input(\"Enter value for a: \"))\n",
    "b=int(input(\"Enter value for b: \"))\n",
    "c=int(input(\"Enter 1 for add, 2 for sub, 3 for mult, 4 for div\"))\n",
    "\n",
    "if(c==1):\n",
    "    print(a+b)\n",
    "elif(c==2):\n",
    "    print(a-b)\n",
    "elif(c==3):\n",
    "    print(a*b)\n",
    "elif(c==4):\n",
    "    print(a/b)\n",
    "else:\n",
    "    print(\"Wrong number entered\")"
   ]
  },
  {
   "cell_type": "code",
   "execution_count": 9,
   "id": "a95332b6-826f-45d7-89a9-e7be6ecbe60e",
   "metadata": {},
   "outputs": [
    {
     "data": {
      "text/plain": [
       "4"
      ]
     },
     "execution_count": 9,
     "metadata": {},
     "output_type": "execute_result"
    }
   ],
   "source": [
    "a=[3,4,5,6]\n",
    "len(a)"
   ]
  },
  {
   "cell_type": "code",
   "execution_count": 10,
   "id": "7420bf72-229c-4e65-a377-f7bcc2c31029",
   "metadata": {},
   "outputs": [],
   "source": [
    "a.append(10)"
   ]
  },
  {
   "cell_type": "code",
   "execution_count": 11,
   "id": "f54edaa1-0929-4c47-863c-a5e9248f127d",
   "metadata": {},
   "outputs": [
    {
     "data": {
      "text/plain": [
       "5"
      ]
     },
     "execution_count": 11,
     "metadata": {},
     "output_type": "execute_result"
    }
   ],
   "source": [
    "len(a)"
   ]
  },
  {
   "cell_type": "code",
   "execution_count": 24,
   "id": "bf3de156-3954-4b56-b87f-3097a1efabd6",
   "metadata": {},
   "outputs": [],
   "source": [
    "a.extend([10,5])"
   ]
  },
  {
   "cell_type": "code",
   "execution_count": 25,
   "id": "eef3469c-0f9d-4d61-9f26-8b69c2c8c418",
   "metadata": {},
   "outputs": [
    {
     "data": {
      "text/plain": [
       "12"
      ]
     },
     "execution_count": 25,
     "metadata": {},
     "output_type": "execute_result"
    }
   ],
   "source": [
    "len(a)"
   ]
  },
  {
   "cell_type": "code",
   "execution_count": 26,
   "id": "733f70b1-4a77-426a-9845-76584c24aa2a",
   "metadata": {},
   "outputs": [
    {
     "data": {
      "text/plain": [
       "[3, 4, 5, 6, 10, [1, 2], 1, 2, 10, 12, 10, 5]"
      ]
     },
     "execution_count": 26,
     "metadata": {},
     "output_type": "execute_result"
    }
   ],
   "source": [
    "a"
   ]
  },
  {
   "cell_type": "code",
   "execution_count": 27,
   "id": "2dbe1bcb-8495-47f1-9941-ef7ab4b778e4",
   "metadata": {},
   "outputs": [],
   "source": [
    "a.insert(4,100)"
   ]
  },
  {
   "cell_type": "code",
   "execution_count": 41,
   "id": "0f0284c5-853d-44e4-9476-b4699b7ee482",
   "metadata": {},
   "outputs": [],
   "source": [
    "a=[12,5,12]"
   ]
  },
  {
   "cell_type": "code",
   "execution_count": 42,
   "id": "318d70b0-f69c-4d7b-a312-46ee8ea5cb3a",
   "metadata": {},
   "outputs": [],
   "source": [
    "a.remove(12)"
   ]
  },
  {
   "cell_type": "code",
   "execution_count": 43,
   "id": "370286df-2405-4879-b9f9-0b5e5dadb838",
   "metadata": {},
   "outputs": [
    {
     "data": {
      "text/plain": [
       "[5, 12]"
      ]
     },
     "execution_count": 43,
     "metadata": {},
     "output_type": "execute_result"
    }
   ],
   "source": [
    "a"
   ]
  },
  {
   "cell_type": "code",
   "execution_count": 37,
   "id": "2bba638f-8ec2-4b01-b6b4-45705dc3b567",
   "metadata": {},
   "outputs": [],
   "source": [
    "del a[4]"
   ]
  },
  {
   "cell_type": "code",
   "execution_count": 38,
   "id": "f4d995ae-f4e3-4d81-93ee-c7476c797505",
   "metadata": {},
   "outputs": [
    {
     "data": {
      "text/plain": [
       "[3, 4, 6, 1, 10, 12, 10, 5]"
      ]
     },
     "execution_count": 38,
     "metadata": {},
     "output_type": "execute_result"
    }
   ],
   "source": [
    "a"
   ]
  },
  {
   "cell_type": "code",
   "execution_count": 39,
   "id": "d91b4e1c-ca71-4499-bce1-fb3b4e19d6a7",
   "metadata": {},
   "outputs": [
    {
     "name": "stdout",
     "output_type": "stream",
     "text": [
      "1\n"
     ]
    }
   ],
   "source": [
    "print(a.pop(3))"
   ]
  },
  {
   "cell_type": "code",
   "execution_count": 44,
   "id": "3a9ad055-fdeb-4741-959b-221a5ed88416",
   "metadata": {},
   "outputs": [
    {
     "data": {
      "text/plain": [
       "[5, 12]"
      ]
     },
     "execution_count": 44,
     "metadata": {},
     "output_type": "execute_result"
    }
   ],
   "source": [
    "a"
   ]
  },
  {
   "cell_type": "code",
   "execution_count": 45,
   "id": "17c41451-7f0f-443a-9b01-104b542ed345",
   "metadata": {},
   "outputs": [],
   "source": [
    "a.extend([[1,2],[3,4]])"
   ]
  },
  {
   "cell_type": "code",
   "execution_count": 46,
   "id": "55fa43a5-1fcd-4d00-a829-369ffc21ad17",
   "metadata": {},
   "outputs": [
    {
     "data": {
      "text/plain": [
       "[5, 12, [1, 2], [3, 4]]"
      ]
     },
     "execution_count": 46,
     "metadata": {},
     "output_type": "execute_result"
    }
   ],
   "source": [
    "a"
   ]
  },
  {
   "cell_type": "code",
   "execution_count": 47,
   "id": "b7231eb4-d958-444b-b240-6895e6be2c68",
   "metadata": {},
   "outputs": [],
   "source": [
    "a=[1,3,4,1,5,3,3]"
   ]
  },
  {
   "cell_type": "code",
   "execution_count": 48,
   "id": "397557eb-bd48-4dba-944b-83a614bb52b6",
   "metadata": {},
   "outputs": [
    {
     "data": {
      "text/plain": [
       "3"
      ]
     },
     "execution_count": 48,
     "metadata": {},
     "output_type": "execute_result"
    }
   ],
   "source": [
    "a.count(3)"
   ]
  },
  {
   "cell_type": "code",
   "execution_count": 49,
   "id": "e58c2d59-d63a-4fb1-9d3d-327d9ade87a6",
   "metadata": {},
   "outputs": [],
   "source": [
    "a=[\"hello\",4]"
   ]
  },
  {
   "cell_type": "code",
   "execution_count": 51,
   "id": "f009d738-dad2-4b3c-8ac2-2f9b2e2bc4ca",
   "metadata": {},
   "outputs": [
    {
     "ename": "TypeError",
     "evalue": "sequence item 1: expected str instance, int found",
     "output_type": "error",
     "traceback": [
      "\u001b[0;31m---------------------------------------------------------------------------\u001b[0m",
      "\u001b[0;31mTypeError\u001b[0m                                 Traceback (most recent call last)",
      "Input \u001b[0;32mIn [51]\u001b[0m, in \u001b[0;36m<cell line: 1>\u001b[0;34m()\u001b[0m\n\u001b[0;32m----> 1\u001b[0m \u001b[38;5;124;43m\"\u001b[39;49m\u001b[38;5;124;43m\"\u001b[39;49m\u001b[38;5;241;43m.\u001b[39;49m\u001b[43mjoin\u001b[49m\u001b[43m(\u001b[49m\u001b[43ma\u001b[49m\u001b[43m)\u001b[49m\n",
      "\u001b[0;31mTypeError\u001b[0m: sequence item 1: expected str instance, int found"
     ]
    }
   ],
   "source": [
    "\"\".join(a)"
   ]
  },
  {
   "cell_type": "code",
   "execution_count": 58,
   "id": "2554cd41-24a3-4c14-9cf1-49f00029cadf",
   "metadata": {},
   "outputs": [],
   "source": [
    "a=\"hello how are you guys\"\n",
    "a=a.split(\" \")"
   ]
  },
  {
   "cell_type": "code",
   "execution_count": 59,
   "id": "129adc77-5f1f-4f31-8b2d-0b99a653b3b3",
   "metadata": {},
   "outputs": [],
   "source": [
    "a.sort()"
   ]
  },
  {
   "cell_type": "code",
   "execution_count": 60,
   "id": "ce0548f7-396d-476a-baf3-22a510aabd68",
   "metadata": {},
   "outputs": [
    {
     "data": {
      "text/plain": [
       "['are', 'guys', 'hello', 'how', 'you']"
      ]
     },
     "execution_count": 60,
     "metadata": {},
     "output_type": "execute_result"
    }
   ],
   "source": [
    "a"
   ]
  },
  {
   "cell_type": "code",
   "execution_count": 64,
   "id": "b2cfd408-1280-421e-b9c0-815342b452b7",
   "metadata": {},
   "outputs": [
    {
     "name": "stdout",
     "output_type": "stream",
     "text": [
      "Value of a:  hellohellohello\n",
      "Value of a:  36\n",
      "Value of a:  guysguysguys\n",
      "Value of a:  201\n"
     ]
    }
   ],
   "source": [
    "a=[\"hello\",12,\"guys\",67]\n",
    "for i in a:\n",
    "    print(\"Value of a: \",i*3)"
   ]
  },
  {
   "cell_type": "code",
   "execution_count": 68,
   "id": "d0772775-fc2c-4c17-9d4a-fd7ea214b6b6",
   "metadata": {},
   "outputs": [
    {
     "name": "stdout",
     "output_type": "stream",
     "text": [
      "Value is: 0\n",
      "Value is: 1\n",
      "Value is: 2\n",
      "Value is: 3\n",
      "Value is: 4\n",
      "Value is: 5\n",
      "Value is: 6\n",
      "Value is: 7\n",
      "Value is: 8\n",
      "Value is: 9\n"
     ]
    }
   ],
   "source": [
    "for i in range(10):\n",
    "    print(\"Value is:\",i)"
   ]
  },
  {
   "cell_type": "code",
   "execution_count": 70,
   "id": "c3d64bcf-d0e5-422d-90dd-9d0a73c5737b",
   "metadata": {},
   "outputs": [
    {
     "name": "stdout",
     "output_type": "stream",
     "text": [
      "0\n",
      "3\n",
      "6\n",
      "9\n",
      "12\n"
     ]
    }
   ],
   "source": [
    "for i in range(0,15,3):\n",
    "    print(i)"
   ]
  },
  {
   "cell_type": "code",
   "execution_count": 73,
   "id": "35d81aa2-f31a-4335-821a-9b1aada962f0",
   "metadata": {},
   "outputs": [],
   "source": [
    "b,c=12,\"20\""
   ]
  },
  {
   "cell_type": "code",
   "execution_count": 75,
   "id": "50891885-2cb2-4b96-ae90-f8792950ec8d",
   "metadata": {},
   "outputs": [
    {
     "data": {
      "text/plain": [
       "str"
      ]
     },
     "execution_count": 75,
     "metadata": {},
     "output_type": "execute_result"
    }
   ],
   "source": [
    "type(c)"
   ]
  },
  {
   "cell_type": "code",
   "execution_count": 76,
   "id": "509d66f4-d6ac-4885-8430-b96b24ca522e",
   "metadata": {},
   "outputs": [],
   "source": [
    "a=[\"1\",4,\"hi\"]"
   ]
  },
  {
   "cell_type": "code",
   "execution_count": 77,
   "id": "b8f12840-157d-4054-bc34-de921f7214e6",
   "metadata": {},
   "outputs": [
    {
     "data": {
      "text/plain": [
       "('1', 4, 'hi')"
      ]
     },
     "execution_count": 77,
     "metadata": {},
     "output_type": "execute_result"
    }
   ],
   "source": [
    "a=tuple(a)\n",
    "a"
   ]
  },
  {
   "cell_type": "code",
   "execution_count": 78,
   "id": "9059f3b0-d1d2-4284-9e68-3dcc2ba4273d",
   "metadata": {},
   "outputs": [
    {
     "data": {
      "text/plain": [
       "['1', 4, 'hi']"
      ]
     },
     "execution_count": 78,
     "metadata": {},
     "output_type": "execute_result"
    }
   ],
   "source": [
    "list(a)"
   ]
  },
  {
   "cell_type": "code",
   "execution_count": 82,
   "id": "32201d65-aa2c-473b-b92a-396da8b11ab0",
   "metadata": {},
   "outputs": [],
   "source": [
    "d=['one']\n",
    "d.append(5)"
   ]
  },
  {
   "cell_type": "code",
   "execution_count": 97,
   "id": "83f84dd1-6066-44c9-9a1a-8939f87e4c1e",
   "metadata": {},
   "outputs": [],
   "source": [
    "d=('one',[6,5])"
   ]
  },
  {
   "cell_type": "code",
   "execution_count": 98,
   "id": "ff949ade-5eb9-4c38-8b5e-7f8b7805ab98",
   "metadata": {},
   "outputs": [
    {
     "data": {
      "text/plain": [
       "[6, 5]"
      ]
     },
     "execution_count": 98,
     "metadata": {},
     "output_type": "execute_result"
    }
   ],
   "source": [
    "d[1]"
   ]
  },
  {
   "cell_type": "code",
   "execution_count": 99,
   "id": "2f661be8-5150-4451-b20a-290b33c96f42",
   "metadata": {},
   "outputs": [
    {
     "data": {
      "text/plain": [
       "('one', [6, 5])"
      ]
     },
     "execution_count": 99,
     "metadata": {},
     "output_type": "execute_result"
    }
   ],
   "source": [
    "d"
   ]
  },
  {
   "cell_type": "code",
   "execution_count": 108,
   "id": "089862b7-7499-40f9-9577-74469efc9f1a",
   "metadata": {},
   "outputs": [],
   "source": [
    "a=[5,\"hi\",5,76,34]\n",
    "a=set(a)"
   ]
  },
  {
   "cell_type": "code",
   "execution_count": 109,
   "id": "2f46ae38-099f-4a81-9f43-bf77bb6c9363",
   "metadata": {},
   "outputs": [
    {
     "data": {
      "text/plain": [
       "{34, 5, 76, 'hi'}"
      ]
     },
     "execution_count": 109,
     "metadata": {},
     "output_type": "execute_result"
    }
   ],
   "source": [
    "a"
   ]
  },
  {
   "cell_type": "code",
   "execution_count": 110,
   "id": "697f2119-ec09-4d36-b66a-ccd6119e30e5",
   "metadata": {},
   "outputs": [],
   "source": [
    "a=[9,\"nattnew\",]\n",
    "\n"
   ]
  },
  {
   "cell_type": "code",
   "execution_count": 112,
   "id": "1a790240-e8b4-4b15-8dec-5bed9c1aad05",
   "metadata": {},
   "outputs": [
    {
     "data": {
      "text/plain": [
       "{'orange'}"
      ]
     },
     "execution_count": 112,
     "metadata": {},
     "output_type": "execute_result"
    }
   ],
   "source": [
    "a={\"apple\",\"banana\",\"orange\"}\n",
    "b={\"orange\",\"chilly\"}\n",
    "a.intersection(b)"
   ]
  },
  {
   "cell_type": "code",
   "execution_count": 114,
   "id": "a9576ba8-e414-4825-bb38-db9c6fdbc990",
   "metadata": {},
   "outputs": [
    {
     "data": {
      "text/plain": [
       "'radar'"
      ]
     },
     "execution_count": 114,
     "metadata": {},
     "output_type": "execute_result"
    }
   ],
   "source": [
    "a=\"radar\"\n",
    "a[::-1]"
   ]
  },
  {
   "cell_type": "code",
   "execution_count": 123,
   "id": "2869ca17-ed34-40a7-8335-818e959ecef4",
   "metadata": {},
   "outputs": [
    {
     "name": "stdin",
     "output_type": "stream",
     "text": [
      "Enter a character aa\n"
     ]
    },
    {
     "name": "stdout",
     "output_type": "stream",
     "text": [
      "It is a palindrome\n"
     ]
    }
   ],
   "source": [
    "c=input(\"Enter a character\")\n",
    "c = c.lower().replace(\" \", \"\")\n",
    "d=c[::-1]\n",
    "if(len(c)<=1):\n",
    "    print(\"Please enter character more than of 1 character long\")\n",
    "else:\n",
    "    if(c==d):\n",
    "        print(\"It is a palindrome\")\n",
    "    else:\n",
    "        print(\"It is not a palindrome\")"
   ]
  },
  {
   "cell_type": "code",
   "execution_count": 124,
   "id": "51675fba-047b-4877-ac92-a0f6401477f3",
   "metadata": {},
   "outputs": [
    {
     "data": {
      "text/plain": [
       "dict_items([('a', 3), ('b', 4)])"
      ]
     },
     "execution_count": 124,
     "metadata": {},
     "output_type": "execute_result"
    }
   ],
   "source": [
    "a={\"a\":3,\"b\":4}\n",
    "a.items()"
   ]
  },
  {
   "cell_type": "code",
   "execution_count": 125,
   "id": "7a4c9ccd-6027-4672-842c-028cc89e10eb",
   "metadata": {},
   "outputs": [
    {
     "data": {
      "text/plain": [
       "dict_keys(['a', 'b'])"
      ]
     },
     "execution_count": 125,
     "metadata": {},
     "output_type": "execute_result"
    }
   ],
   "source": [
    "a.keys()"
   ]
  },
  {
   "cell_type": "code",
   "execution_count": 126,
   "id": "fa63feff-2377-49d8-81bd-61ceb69e6a9b",
   "metadata": {},
   "outputs": [
    {
     "data": {
      "text/plain": [
       "('b', 4)"
      ]
     },
     "execution_count": 126,
     "metadata": {},
     "output_type": "execute_result"
    }
   ],
   "source": [
    "a.popitem()"
   ]
  },
  {
   "cell_type": "code",
   "execution_count": 127,
   "id": "6a1076c7-7f05-4b06-b715-076852ff95f4",
   "metadata": {},
   "outputs": [
    {
     "data": {
      "text/plain": [
       "{'a': 3}"
      ]
     },
     "execution_count": 127,
     "metadata": {},
     "output_type": "execute_result"
    }
   ],
   "source": [
    "a"
   ]
  },
  {
   "cell_type": "code",
   "execution_count": 128,
   "id": "63fdce35-f3eb-4127-a4f6-1619590a5181",
   "metadata": {},
   "outputs": [],
   "source": [
    "a.update({'a':6})"
   ]
  },
  {
   "cell_type": "code",
   "execution_count": 129,
   "id": "c63e45dc-73d6-4d10-b2e3-f3571af3e9b5",
   "metadata": {},
   "outputs": [
    {
     "data": {
      "text/plain": [
       "{'a': 6}"
      ]
     },
     "execution_count": 129,
     "metadata": {},
     "output_type": "execute_result"
    }
   ],
   "source": [
    "a"
   ]
  },
  {
   "cell_type": "code",
   "execution_count": 130,
   "id": "2174b231-06c6-4cf6-ac2b-df39f0716df2",
   "metadata": {},
   "outputs": [],
   "source": [
    "a.update({'b':7})"
   ]
  },
  {
   "cell_type": "code",
   "execution_count": 131,
   "id": "d27dcbe5-f029-4087-9024-e1344a9b3b51",
   "metadata": {},
   "outputs": [
    {
     "data": {
      "text/plain": [
       "{'a': 6, 'b': 7}"
      ]
     },
     "execution_count": 131,
     "metadata": {},
     "output_type": "execute_result"
    }
   ],
   "source": [
    "a"
   ]
  },
  {
   "cell_type": "code",
   "execution_count": 132,
   "id": "82685915-e425-48da-88c0-b7ab6698ff09",
   "metadata": {},
   "outputs": [
    {
     "data": {
      "text/plain": [
       "dict_values([6, 7])"
      ]
     },
     "execution_count": 132,
     "metadata": {},
     "output_type": "execute_result"
    }
   ],
   "source": [
    "a.values()"
   ]
  },
  {
   "cell_type": "code",
   "execution_count": 134,
   "id": "4d2d1d96-f123-4da8-b8ff-a6667708482e",
   "metadata": {},
   "outputs": [
    {
     "name": "stdout",
     "output_type": "stream",
     "text": [
      "('a', 6)\n",
      "('b', 7)\n"
     ]
    }
   ],
   "source": [
    "for a in a.items():\n",
    "    print(a)"
   ]
  },
  {
   "cell_type": "code",
   "execution_count": 137,
   "id": "702a8914-05f4-45d1-b496-7a8786680b2b",
   "metadata": {},
   "outputs": [
    {
     "name": "stdout",
     "output_type": "stream",
     "text": [
      "{'Class': 'DS', 'BatchID': 123, 'Day': 'Sunday', 'Duration': 4}\n"
     ]
    }
   ],
   "source": [
    "key= [\"Class\",\"BatchID\", \"Day\", \"Duration\"]\n",
    "value= [\"DS\",123,\"Sunday\",4]\n",
    "dict={}\n",
    "i=0;\n",
    "for k in key:\n",
    "    dict[k]=value[i]\n",
    "    i = i + 1\n",
    "print(dict)"
   ]
  },
  {
   "cell_type": "code",
   "execution_count": 147,
   "id": "882cccf6-db48-45f6-9340-35f90daeab36",
   "metadata": {},
   "outputs": [
    {
     "ename": "TypeError",
     "evalue": "filter() takes 1 positional argument but 2 were given",
     "output_type": "error",
     "traceback": [
      "\u001b[0;31m---------------------------------------------------------------------------\u001b[0m",
      "\u001b[0;31mTypeError\u001b[0m                                 Traceback (most recent call last)",
      "Input \u001b[0;32mIn [147]\u001b[0m, in \u001b[0;36m<cell line: 5>\u001b[0;34m()\u001b[0m\n\u001b[1;32m      3\u001b[0m         \u001b[38;5;28;01mreturn\u001b[39;00m \u001b[38;5;28;01mTrue\u001b[39;00m\n\u001b[1;32m      4\u001b[0m lists \u001b[38;5;241m=\u001b[39m [\u001b[38;5;241m1\u001b[39m,\u001b[38;5;241m4\u001b[39m,\u001b[38;5;241m5\u001b[39m,\u001b[38;5;241m3\u001b[39m]\n\u001b[0;32m----> 5\u001b[0m a\u001b[38;5;241m=\u001b[39m\u001b[38;5;28mlist\u001b[39m(\u001b[38;5;28;43mfilter\u001b[39;49m\u001b[43m(\u001b[49m\u001b[43mfunc\u001b[49m\u001b[43m,\u001b[49m\u001b[43mlists\u001b[49m\u001b[43m)\u001b[49m)\n",
      "\u001b[0;31mTypeError\u001b[0m: filter() takes 1 positional argument but 2 were given"
     ]
    }
   ],
   "source": [
    "def func(x):\n",
    "    if x>3:\n",
    "        return True\n",
    "lists = [1,4,5,3]\n",
    "a=list(filter(func,lists))"
   ]
  },
  {
   "cell_type": "code",
   "execution_count": 165,
   "id": "1abd1861-d630-4154-9338-cc3199069c04",
   "metadata": {},
   "outputs": [
    {
     "ename": "TypeError",
     "evalue": "filter() takes 1 positional argument but 2 were given",
     "output_type": "error",
     "traceback": [
      "\u001b[0;31m---------------------------------------------------------------------------\u001b[0m",
      "\u001b[0;31mTypeError\u001b[0m                                 Traceback (most recent call last)",
      "Input \u001b[0;32mIn [165]\u001b[0m, in \u001b[0;36m<cell line: 7>\u001b[0;34m()\u001b[0m\n\u001b[1;32m      4\u001b[0m     \u001b[38;5;28;01mreturn\u001b[39;00m \u001b[38;5;28;01mFalse\u001b[39;00m\n\u001b[1;32m      6\u001b[0m my_list \u001b[38;5;241m=\u001b[39m [\u001b[38;5;241m3\u001b[39m,\u001b[38;5;241m4\u001b[39m,\u001b[38;5;241m62\u001b[39m,\u001b[38;5;241m2\u001b[39m]\n\u001b[0;32m----> 7\u001b[0m filtered_list \u001b[38;5;241m=\u001b[39m \u001b[38;5;28mlist\u001b[39m(\u001b[38;5;28;43mfilter\u001b[39;49m\u001b[43m(\u001b[49m\u001b[43mfunc\u001b[49m\u001b[43m,\u001b[49m\u001b[43m \u001b[49m\u001b[43mmy_list\u001b[49m\u001b[43m)\u001b[49m)\n",
      "\u001b[0;31mTypeError\u001b[0m: filter() takes 1 positional argument but 2 were given"
     ]
    }
   ],
   "source": [
    "def func(x):\n",
    "    if x > 3:\n",
    "        return x\n",
    "    return False\n",
    "\n",
    "my_list = [3,4,62,2]\n",
    "filtered_list = list(filter(func, my_list))"
   ]
  },
  {
   "cell_type": "code",
   "execution_count": null,
   "id": "37e2a9f7-172c-4614-96d8-20c8b6661563",
   "metadata": {},
   "outputs": [],
   "source": []
  }
 ],
 "metadata": {
  "kernelspec": {
   "display_name": "Python 3 (ipykernel)",
   "language": "python",
   "name": "python3"
  },
  "language_info": {
   "codemirror_mode": {
    "name": "ipython",
    "version": 3
   },
   "file_extension": ".py",
   "mimetype": "text/x-python",
   "name": "python",
   "nbconvert_exporter": "python",
   "pygments_lexer": "ipython3",
   "version": "3.9.10"
  }
 },
 "nbformat": 4,
 "nbformat_minor": 5
}
